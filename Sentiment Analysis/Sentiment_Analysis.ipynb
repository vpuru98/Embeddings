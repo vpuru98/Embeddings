{
 "cells": [
  {
   "cell_type": "markdown",
   "metadata": {
    "colab_type": "text",
    "id": "1f-OJ0pyl-9W"
   },
   "source": [
    "# **Sentiment Analysis**\n",
    "In this notebook, we will use the embeddings we trained earlier to solve the task of sentiment analysis upon the IMDB reviews dataset. "
   ]
  },
  {
   "cell_type": "markdown",
   "metadata": {
    "colab_type": "text",
    "id": "VOq8khEMmZoR"
   },
   "source": [
    "## **Define notebook constants**"
   ]
  },
  {
   "cell_type": "code",
   "execution_count": 1,
   "metadata": {
    "colab": {},
    "colab_type": "code",
    "id": "l12_bG8Qj0dZ"
   },
   "outputs": [],
   "source": [
    "base_url = '../'\n",
    "dictionary_size = 25000\n",
    "review_max_len = 300\n",
    "embedding_dim = 64"
   ]
  },
  {
   "cell_type": "markdown",
   "metadata": {
    "colab_type": "text",
    "id": "vsBBeFIUmysQ"
   },
   "source": [
    "## **Import essential libraries**"
   ]
  },
  {
   "cell_type": "code",
   "execution_count": 2,
   "metadata": {
    "colab": {},
    "colab_type": "code",
    "id": "rSOSzYkhmxiM"
   },
   "outputs": [],
   "source": [
    "import joblib\n",
    "import numpy as np\n",
    "import pandas as pd\n",
    "import tensorflow as tf\n",
    "import matplotlib.pyplot as plt\n",
    "from sklearn.model_selection import train_test_split\n",
    "from sklearn.metrics import precision_recall_fscore_support\n",
    "\n",
    "%matplotlib inline\n",
    "plt.rcParams['figure.figsize'] = [10, 10]"
   ]
  },
  {
   "cell_type": "markdown",
   "metadata": {
    "colab_type": "text",
    "id": "AzxPX7y6oQAw"
   },
   "source": [
    "## **Load trained embeddings**"
   ]
  },
  {
   "cell_type": "code",
   "execution_count": 3,
   "metadata": {
    "colab": {},
    "colab_type": "code",
    "id": "v27mR0g4ndgl"
   },
   "outputs": [],
   "source": [
    "embedding_mat = joblib.load(base_url + 'Embedding/embeddings.pkl')\n",
    "word_to_index = joblib.load(base_url + 'Embedding/word_to_index_map.pkl')\n",
    "index_to_word = joblib.load(base_url + 'Embedding/index_to_word_map.pkl')"
   ]
  },
  {
   "cell_type": "code",
   "execution_count": 4,
   "metadata": {
    "colab": {},
    "colab_type": "code",
    "id": "4f4HaK3wo66k"
   },
   "outputs": [],
   "source": [
    "# End of sentence token\n",
    "embedding_mat = np.vstack((embedding_mat, 0 * np.ones((1, embedding_dim))))\n",
    "# Unknown word token\n",
    "embedding_mat = np.vstack((embedding_mat, 1 * np.ones((1, embedding_dim))))\n",
    "# Null word token\n",
    "embedding_mat = np.vstack((embedding_mat, -1 * np.ones((1, embedding_dim))))"
   ]
  },
  {
   "cell_type": "markdown",
   "metadata": {
    "colab_type": "text",
    "id": "Cv_cdlLYp4aF"
   },
   "source": [
    "## **Load dataset**"
   ]
  },
  {
   "cell_type": "code",
   "execution_count": 5,
   "metadata": {
    "colab": {
     "base_uri": "https://localhost:8080/",
     "height": 173
    },
    "colab_type": "code",
    "id": "DsmnMv5epqNa",
    "outputId": "e4104d96-c3e4-4b97-8972-74ddf08182a0"
   },
   "outputs": [
    {
     "name": "stdout",
     "output_type": "stream",
     "text": [
      "<class 'pandas.core.frame.DataFrame'>\n",
      "RangeIndex: 50000 entries, 0 to 49999\n",
      "Data columns (total 2 columns):\n",
      " #   Column     Non-Null Count  Dtype \n",
      "---  ------     --------------  ----- \n",
      " 0   review     50000 non-null  object\n",
      " 1   sentiment  50000 non-null  object\n",
      "dtypes: object(2)\n",
      "memory usage: 781.4+ KB\n"
     ]
    }
   ],
   "source": [
    "df = pd.read_csv(base_url + 'Sentiment Analysis/IMDB Dataset.csv')\n",
    "df.info()"
   ]
  },
  {
   "cell_type": "code",
   "execution_count": 6,
   "metadata": {
    "colab": {
     "base_uri": "https://localhost:8080/",
     "height": 363
    },
    "colab_type": "code",
    "id": "AQ0bgBPRqJ4N",
    "outputId": "4e272af9-36e1-44e8-acb7-bc72cb52e829"
   },
   "outputs": [
    {
     "data": {
      "text/html": [
       "<div>\n",
       "<style scoped>\n",
       "    .dataframe tbody tr th:only-of-type {\n",
       "        vertical-align: middle;\n",
       "    }\n",
       "\n",
       "    .dataframe tbody tr th {\n",
       "        vertical-align: top;\n",
       "    }\n",
       "\n",
       "    .dataframe thead th {\n",
       "        text-align: right;\n",
       "    }\n",
       "</style>\n",
       "<table border=\"1\" class=\"dataframe\">\n",
       "  <thead>\n",
       "    <tr style=\"text-align: right;\">\n",
       "      <th></th>\n",
       "      <th>review</th>\n",
       "      <th>sentiment</th>\n",
       "    </tr>\n",
       "  </thead>\n",
       "  <tbody>\n",
       "    <tr>\n",
       "      <th>0</th>\n",
       "      <td>One of the other reviewers has mentioned that ...</td>\n",
       "      <td>positive</td>\n",
       "    </tr>\n",
       "    <tr>\n",
       "      <th>1</th>\n",
       "      <td>A wonderful little production. &lt;br /&gt;&lt;br /&gt;The...</td>\n",
       "      <td>positive</td>\n",
       "    </tr>\n",
       "    <tr>\n",
       "      <th>2</th>\n",
       "      <td>I thought this was a wonderful way to spend ti...</td>\n",
       "      <td>positive</td>\n",
       "    </tr>\n",
       "    <tr>\n",
       "      <th>3</th>\n",
       "      <td>Basically there's a family where a little boy ...</td>\n",
       "      <td>negative</td>\n",
       "    </tr>\n",
       "    <tr>\n",
       "      <th>4</th>\n",
       "      <td>Petter Mattei's \"Love in the Time of Money\" is...</td>\n",
       "      <td>positive</td>\n",
       "    </tr>\n",
       "    <tr>\n",
       "      <th>5</th>\n",
       "      <td>Probably my all-time favorite movie, a story o...</td>\n",
       "      <td>positive</td>\n",
       "    </tr>\n",
       "    <tr>\n",
       "      <th>6</th>\n",
       "      <td>I sure would like to see a resurrection of a u...</td>\n",
       "      <td>positive</td>\n",
       "    </tr>\n",
       "    <tr>\n",
       "      <th>7</th>\n",
       "      <td>This show was an amazing, fresh &amp; innovative i...</td>\n",
       "      <td>negative</td>\n",
       "    </tr>\n",
       "    <tr>\n",
       "      <th>8</th>\n",
       "      <td>Encouraged by the positive comments about this...</td>\n",
       "      <td>negative</td>\n",
       "    </tr>\n",
       "    <tr>\n",
       "      <th>9</th>\n",
       "      <td>If you like original gut wrenching laughter yo...</td>\n",
       "      <td>positive</td>\n",
       "    </tr>\n",
       "  </tbody>\n",
       "</table>\n",
       "</div>"
      ],
      "text/plain": [
       "                                              review sentiment\n",
       "0  One of the other reviewers has mentioned that ...  positive\n",
       "1  A wonderful little production. <br /><br />The...  positive\n",
       "2  I thought this was a wonderful way to spend ti...  positive\n",
       "3  Basically there's a family where a little boy ...  negative\n",
       "4  Petter Mattei's \"Love in the Time of Money\" is...  positive\n",
       "5  Probably my all-time favorite movie, a story o...  positive\n",
       "6  I sure would like to see a resurrection of a u...  positive\n",
       "7  This show was an amazing, fresh & innovative i...  negative\n",
       "8  Encouraged by the positive comments about this...  negative\n",
       "9  If you like original gut wrenching laughter yo...  positive"
      ]
     },
     "execution_count": 6,
     "metadata": {
      "tags": []
     },
     "output_type": "execute_result"
    }
   ],
   "source": [
    "df.head(10)"
   ]
  },
  {
   "cell_type": "code",
   "execution_count": 7,
   "metadata": {
    "colab": {
     "base_uri": "https://localhost:8080/",
     "height": 144
    },
    "colab_type": "code",
    "id": "5gE9XmpDqMdB",
    "outputId": "907f24d0-2ee7-4685-a4f6-c3c821cdc6ca"
   },
   "outputs": [
    {
     "data": {
      "application/vnd.google.colaboratory.intrinsic+json": {
       "type": "string"
      },
      "text/plain": [
       "'Return to the 36th Chamber is one of those classic Kung-Fu movies which Shaw produces back in the 70s and 80s, whose genre is equivalent to the spaghetti westerns of Hollywood, and the protagonist Gordon Liu, the counterpart to the western\\'s Clint Eastwood. Digitally remastered and a new print made for the Fantastic Film Fest, this is \"Presented in Shaw Scope\", just like the good old days.<br /><br />This film is a simple story of good versus evil, told in 3 acts, which more or less sums up the narrative of martial arts films in that era.<br /><br />Act One sets up the premise. Workers in a dye-mill of a small village are unhappy with their lot, having their wages cut by 20% by incoming manchu gangsters. They can\\'t do much about their exploitation because none of them are martial arts skilled to take on the gangsters, and their boss. At first they had a minor success in getting Liu to impersonate a highly skilled Shaolin monk (one of the best comedy sequences), but their rouse got exposed when they pushed the limit of credibility by impersonating one too many times.<br /><br />Act Two shows the protagonist wanting to get back at the mob. However, without real martial arts, he embarks on a journey to Shaolin Temple, to try and infiltrate and learn martial arts on the sly. After some slapstick moments, he finally gets accepted by the abbot (whom he impersonated!) but is disappointed at the teaching methods - kinda like Mr Miyagi\\'s style in Karate Kid, but instead of painting fences, he gets to erect scaffoldings all around the temple. Nothing can keep a good man down, and he unwittingly builds strength, endurance and learns kung-fu the unorthodox way.<br /><br />Act Three is where the fight fest begins. With cheesy sound effects, each obvious non-contact on film is given the maximum impact treatment. But it is rather refreshing watching the fight scenes here, with its wide angled shots to highlight clarity and detail between the sparring partners, and the use of slow-motion only to showcase stunts in different angles. You may find the speed of fights a tad too slow, with some pause in between moves, but with Yuen Wo Ping and his style being used ad-nausem in Hollywood flicks, they sure don\\'t make fight scenes like they used to! Return to the 36th chamber gets a repeat screening on Monday, so, if you\\'re game for a nostalgic trip down memory lane, what are you waiting for?'"
      ]
     },
     "execution_count": 7,
     "metadata": {
      "tags": []
     },
     "output_type": "execute_result"
    }
   ],
   "source": [
    "df.iloc[50, 0]"
   ]
  },
  {
   "cell_type": "markdown",
   "metadata": {
    "colab_type": "text",
    "id": "sXXzgmasqrCr"
   },
   "source": [
    "## **Clean dataset reviews**"
   ]
  },
  {
   "cell_type": "code",
   "execution_count": 8,
   "metadata": {
    "colab": {},
    "colab_type": "code",
    "id": "e1Osw46Kq9t6"
   },
   "outputs": [],
   "source": [
    "allowed_chars = []\n",
    "allowed_chars.extend([chr(c) for c in range(ord('a'), ord('z') + 1, 1)])\n",
    "allowed_chars.extend([chr(c) for c in range(ord('0'), ord('9') + 1, 1)])\n",
    "allowed_chars.extend([' ', '.'])"
   ]
  },
  {
   "cell_type": "code",
   "execution_count": 9,
   "metadata": {
    "colab": {},
    "colab_type": "code",
    "id": "r4d7ktlIqjld"
   },
   "outputs": [],
   "source": [
    "def clean_review(review):\n",
    "    verbose = ''\n",
    "    review = review.lower()\n",
    "    for c in review:\n",
    "        if c in allowed_chars:\n",
    "            verbose += c\n",
    "        else:\n",
    "            verbose += ' '\n",
    "    cleaned = ''\n",
    "    for c in verbose:\n",
    "        if c == ' ':\n",
    "            if cleaned[-1:] != ' ':\n",
    "                cleaned += c\n",
    "        elif c == '.':\n",
    "            if cleaned[-1:] != '.':\n",
    "                cleaned += ' ' + c\n",
    "        else:\n",
    "            cleaned+= c\n",
    "    return cleaned.replace(' br ', '')"
   ]
  },
  {
   "cell_type": "code",
   "execution_count": 10,
   "metadata": {
    "colab": {},
    "colab_type": "code",
    "id": "tfAt_I7Vq-lE"
   },
   "outputs": [],
   "source": [
    "df[\"review\"] = df[\"review\"].apply(clean_review)"
   ]
  },
  {
   "cell_type": "code",
   "execution_count": 11,
   "metadata": {
    "colab": {
     "base_uri": "https://localhost:8080/",
     "height": 144
    },
    "colab_type": "code",
    "id": "NIGZdEi4rCo_",
    "outputId": "b4401cce-b22c-45f7-e572-c89e8fd79a42"
   },
   "outputs": [
    {
     "data": {
      "application/vnd.google.colaboratory.intrinsic+json": {
       "type": "string"
      },
      "text/plain": [
       "'return to the 36th chamber is one of those classic kung fu movies which shaw produces back in the 70s and 80s whose genre is equivalent to the spaghetti westerns of hollywood and the protagonist gordon liu the counterpart to the western s clint eastwood . digitally remastered and a new print made for the fantastic film fest this is presented in shaw scope just like the good old days .br this film is a simple story of good versus evil told in 3 acts which more or less sums up the narrative of martial arts films in that era .br act one sets up the premise . workers in a dye mill of a small village are unhappy with their lot having their wages cut by 20 by incoming manchu gangsters . they can t do much about their exploitation because none of them are martial arts skilled to take on the gangsters and their boss . at first they had a minor success in getting liu to impersonate a highly skilled shaolin monk one of the best comedy sequences but their rouse got exposed when they pushed the limit of credibility by impersonating one too many times .br act two shows the protagonist wanting to get back at the mob . however without real martial arts he embarks on a journey to shaolin temple to try and infiltrate and learn martial arts on the sly . after some slapstick moments he finally gets accepted by the abbot whom he impersonated but is disappointed at the teaching methods kinda like mr miyagi s style in karate kid but instead of painting fences he gets to erect scaffoldings all around the temple . nothing can keep a good man down and he unwittingly builds strength endurance and learns kung fu the unorthodox way .br act three is where the fight fest begins . with cheesy sound effects each obvious non contact on film is given the maximum impact treatment . but it is rather refreshing watching the fight scenes here with its wide angled shots to highlight clarity and detail between the sparring partners and the use of slow motion only to showcase stunts in different angles . you may find the speed of fights a tad too slow with some pause in between moves but with yuen wo ping and his style being used ad nausem in hollywood flicks they sure don t make fight scenes like they used to return to the 36th chamber gets a repeat screening on monday so if you re game for a nostalgic trip down memory lane what are you waiting for '"
      ]
     },
     "execution_count": 11,
     "metadata": {
      "tags": []
     },
     "output_type": "execute_result"
    }
   ],
   "source": [
    "df.iloc[50, 0]"
   ]
  },
  {
   "cell_type": "markdown",
   "metadata": {
    "colab_type": "text",
    "id": "TQUF4cWwr1sC"
   },
   "source": [
    "## **Exploratory Data Analysis: Observing the trends in the lengths of different reviews**"
   ]
  },
  {
   "cell_type": "code",
   "execution_count": 12,
   "metadata": {
    "colab": {},
    "colab_type": "code",
    "id": "1st0DbaQrEdF"
   },
   "outputs": [],
   "source": [
    "lengths = []\n",
    "for i in range(df.shape[0]):\n",
    "    words = list(filter(lambda x: len(x) > 0, map(str.strip, df.iloc[i, 0].split(' '))))\n",
    "    lengths.append(len(words))"
   ]
  },
  {
   "cell_type": "code",
   "execution_count": 13,
   "metadata": {
    "colab": {
     "base_uri": "https://localhost:8080/",
     "height": 34
    },
    "colab_type": "code",
    "id": "JSg0LKupsW4J",
    "outputId": "1ee4e360-a1fb-41d7-e599-7fe856c0789e"
   },
   "outputs": [
    {
     "name": "stdout",
     "output_type": "stream",
     "text": [
      "2624\n"
     ]
    }
   ],
   "source": [
    "max_len = max(lengths)\n",
    "print(max_len)"
   ]
  },
  {
   "cell_type": "code",
   "execution_count": 14,
   "metadata": {
    "colab": {
     "base_uri": "https://localhost:8080/",
     "height": 637
    },
    "colab_type": "code",
    "id": "S3vObPl0sSYY",
    "outputId": "683a9c5e-02a6-4603-db5d-17281167c515"
   },
   "outputs": [
    {
     "data": {
      "image/png": "[encoded data removed]",
      "text/plain": [
       "<Figure size 720x720 with 1 Axes>"
      ]
     },
     "metadata": {
      "needs_background": "light",
      "tags": []
     },
     "output_type": "display_data"
    }
   ],
   "source": [
    "bins = [i for i in range(0, max_len, 200)]\n",
    "plt.hist(lengths, bins, rwidth=0.7)\n",
    "plt.xlabel('Review Lengths')\n",
    "plt.ylabel('Review Frequencies')\n",
    "plt.title('Review Frequencies vs Lengths\\n')\n",
    "plt.show()"
   ]
  },
  {
   "cell_type": "code",
   "execution_count": 15,
   "metadata": {
    "colab": {
     "base_uri": "https://localhost:8080/",
     "height": 637
    },
    "colab_type": "code",
    "id": "KwxSdXXvshkr",
    "outputId": "3bc383f1-6fc1-4a58-d3b9-78373caa366b"
   },
   "outputs": [
    {
     "data": {
      "image/png": "[encoded data removed]",
      "text/plain": [
       "<Figure size 720x720 with 1 Axes>"
      ]
     },
     "metadata": {
      "needs_background": "light",
      "tags": []
     },
     "output_type": "display_data"
    }
   ],
   "source": [
    "plt.hist(lengths, bins, rwidth=0.7, cumulative=True)\n",
    "plt.xlabel('Review Lengths')\n",
    "plt.ylabel('Review Frequencies (Cumulative)')\n",
    "plt.title('Review Frequencies vs Lengths (Cumulative)\\n')\n",
    "plt.show()"
   ]
  },
  {
   "cell_type": "markdown",
   "metadata": {
    "colab_type": "text",
    "id": "x7fab0cduDt6"
   },
   "source": [
    "## **Convert reviews to index sequences**"
   ]
  },
  {
   "cell_type": "code",
   "execution_count": 16,
   "metadata": {
    "colab": {},
    "colab_type": "code",
    "id": "Fy_o64f3teiq"
   },
   "outputs": [],
   "source": [
    "def convert_to_ind_seq(words):\n",
    "    unknown_count, word_count = 0, 0\n",
    "    indices = [dictionary_size + 2 for i in range(review_max_len)]\n",
    "    i = 0 if (len(words) <= review_max_len) else (len(words) - review_max_len)\n",
    "    j = 0 if (len(words) >= review_max_len) else (review_max_len - len(words))\n",
    "    while i < len(words):\n",
    "        word = words[i]\n",
    "        if word in word_to_index:\n",
    "            indices[j] = word_to_index[word]\n",
    "        else:\n",
    "            if word[0] == '.':\n",
    "                indices[j] = dictionary_size\n",
    "            else:\n",
    "                indices[j] = dictionary_size + 1\n",
    "                unknown_count += 1\n",
    "        i += 1\n",
    "        j += 1\n",
    "        word_count += 1\n",
    "    return indices, unknown_count, word_count"
   ]
  },
  {
   "cell_type": "code",
   "execution_count": 17,
   "metadata": {
    "colab": {},
    "colab_type": "code",
    "id": "6-y0lPdrubmp"
   },
   "outputs": [],
   "source": [
    "X, Y = [], []\n",
    "unknown_count, word_count = 0, 0\n",
    "for i in range(df.shape[0]):\n",
    "    Y.append((0 if df.iloc[i, 1] == 'negative' else 1, ))\n",
    "    words = list(filter(lambda x: len(x) > 0, map(str.strip, df.iloc[i, 0].split(' '))))\n",
    "    indices, unk_w, tot_w = convert_to_ind_seq(words)\n",
    "    unknown_count += unk_w\n",
    "    word_count += tot_w\n",
    "    X.append(indices)"
   ]
  },
  {
   "cell_type": "code",
   "execution_count": 19,
   "metadata": {
    "colab": {
     "base_uri": "https://localhost:8080/",
     "height": 34
    },
    "colab_type": "code",
    "id": "doZIjF-hwcE-",
    "outputId": "1466170f-655a-4891-f05d-f476fdf2bce0"
   },
   "outputs": [
    {
     "name": "stdout",
     "output_type": "stream",
     "text": [
      "Unknown words percentage = 8.691008631845374\n"
     ]
    }
   ],
   "source": [
    "print('Unknown words percentage =', unknown_count / word_count * 100)"
   ]
  },
  {
   "cell_type": "code",
   "execution_count": 18,
   "metadata": {
    "colab": {},
    "colab_type": "code",
    "id": "lPmlaL7Qwdn2"
   },
   "outputs": [],
   "source": [
    "X = np.array(X, dtype=np.uint32)\n",
    "Y = np.array(Y, dtype=np.uint8)"
   ]
  },
  {
   "cell_type": "code",
   "execution_count": 20,
   "metadata": {
    "colab": {},
    "colab_type": "code",
    "id": "4KEayGWlxwR5"
   },
   "outputs": [],
   "source": [
    "X_train, X_test, Y_train, Y_test = train_test_split(X, Y, test_size=0.2, random_state=0)"
   ]
  },
  {
   "cell_type": "markdown",
   "metadata": {
    "colab_type": "text",
    "id": "yuL_f3n6xALV"
   },
   "source": [
    "## **Deep LSTM model**"
   ]
  },
  {
   "cell_type": "code",
   "execution_count": 21,
   "metadata": {
    "colab": {},
    "colab_type": "code",
    "id": "WXnXW6X2wrau"
   },
   "outputs": [],
   "source": [
    "def get_deep_LSTM_model():\n",
    "    inputs = tf.keras.layers.Input(shape=(review_max_len,))\n",
    "    embeddings = tf.keras.layers.Embedding(dictionary_size + 3, embedding_dim, weights=[embedding_mat], \n",
    "                    trainable=True)(inputs)\n",
    "    lstm_layer_1 = tf.keras.layers.LSTM(128, return_sequences=True)(embeddings)\n",
    "    lstm_layer_2 = tf.keras.layers.LSTM(128, return_sequences=False)(lstm_layer_1)\n",
    "    dense_1 = tf.keras.layers.Dense(1, activation='sigmoid')(lstm_layer_2)\n",
    "    model = tf.keras.models.Model(inputs=[inputs], outputs=[dense_1])\n",
    "    return model"
   ]
  },
  {
   "cell_type": "code",
   "execution_count": 22,
   "metadata": {
    "colab": {},
    "colab_type": "code",
    "id": "jTGAdogZxVCs"
   },
   "outputs": [],
   "source": [
    "deep_LSTM_model = get_deep_LSTM_model()"
   ]
  },
  {
   "cell_type": "code",
   "execution_count": 23,
   "metadata": {
    "colab": {
     "base_uri": "https://localhost:8080/",
     "height": 330
    },
    "colab_type": "code",
    "id": "0p2pN6hBxc1_",
    "outputId": "76a460c0-dc4b-44c1-ed1a-36777f70e567"
   },
   "outputs": [
    {
     "name": "stdout",
     "output_type": "stream",
     "text": [
      "Model: \"functional_1\"\n",
      "_________________________________________________________________\n",
      "Layer (type)                 Output Shape              Param #   \n",
      "=================================================================\n",
      "input_1 (InputLayer)         [(None, 300)]             0         \n",
      "_________________________________________________________________\n",
      "embedding (Embedding)        (None, 300, 64)           1600192   \n",
      "_________________________________________________________________\n",
      "lstm (LSTM)                  (None, 300, 128)          98816     \n",
      "_________________________________________________________________\n",
      "lstm_1 (LSTM)                (None, 128)               131584    \n",
      "_________________________________________________________________\n",
      "dense (Dense)                (None, 1)                 129       \n",
      "=================================================================\n",
      "Total params: 1,830,721\n",
      "Trainable params: 1,830,721\n",
      "Non-trainable params: 0\n",
      "_________________________________________________________________\n"
     ]
    }
   ],
   "source": [
    "deep_LSTM_model.summary()"
   ]
  },
  {
   "cell_type": "code",
   "execution_count": 24,
   "metadata": {
    "colab": {
     "base_uri": "https://localhost:8080/",
     "height": 466
    },
    "colab_type": "code",
    "id": "-deLfiSAPh0x",
    "outputId": "c4d4c776-e220-4671-ac38-b0ca7821988e"
   },
   "outputs": [
    {
     "data": {
      "image/png": "[encoded data removed]",
      "text/plain": [
       "<IPython.core.display.Image object>"
      ]
     },
     "execution_count": 24,
     "metadata": {
      "tags": []
     },
     "output_type": "execute_result"
    }
   ],
   "source": [
    "tf.keras.utils.plot_model(deep_LSTM_model)"
   ]
  },
  {
   "cell_type": "markdown",
   "metadata": {
    "colab_type": "text",
    "id": "fWtz560JxjPo"
   },
   "source": [
    "### **Fit data to deep LSTM model**"
   ]
  },
  {
   "cell_type": "code",
   "execution_count": null,
   "metadata": {
    "colab": {},
    "colab_type": "code",
    "id": "XWGPKtuZxeRw"
   },
   "outputs": [],
   "source": [
    "deep_LSTM_model.compile(\n",
    "    loss='binary_crossentropy', \n",
    "    optimizer=tf.keras.optimizers.Adam(learning_rate=0.00002), \n",
    "    metrics=['accuracy']\n",
    ")"
   ]
  },
  {
   "cell_type": "code",
   "execution_count": null,
   "metadata": {
    "colab": {
     "base_uri": "https://localhost:8080/",
     "height": 555
    },
    "colab_type": "code",
    "id": "VunLVBNUxr-W",
    "outputId": "4067ff57-9a44-499d-d3b8-9385ed1bec52"
   },
   "outputs": [
    {
     "name": "stdout",
     "output_type": "stream",
     "text": [
      "Epoch 1/15\n",
      "157/157 [==============================] - 14s 88ms/step - loss: 0.6919 - accuracy: 0.5252 - val_loss: 0.6879 - val_accuracy: 0.5703\n",
      "Epoch 2/15\n",
      "157/157 [==============================] - 13s 85ms/step - loss: 0.6789 - accuracy: 0.5883 - val_loss: 0.6656 - val_accuracy: 0.6043\n",
      "Epoch 3/15\n",
      "157/157 [==============================] - 13s 85ms/step - loss: 0.6222 - accuracy: 0.6534 - val_loss: 0.5975 - val_accuracy: 0.6862\n",
      "Epoch 4/15\n",
      "157/157 [==============================] - 13s 85ms/step - loss: 0.5752 - accuracy: 0.7037 - val_loss: 0.5666 - val_accuracy: 0.7117\n",
      "Epoch 5/15\n",
      "157/157 [==============================] - 13s 86ms/step - loss: 0.5480 - accuracy: 0.7270 - val_loss: 0.5478 - val_accuracy: 0.7260\n",
      "Epoch 6/15\n",
      "157/157 [==============================] - 13s 85ms/step - loss: 0.5275 - accuracy: 0.7413 - val_loss: 0.5339 - val_accuracy: 0.7372\n",
      "Epoch 7/15\n",
      "157/157 [==============================] - 13s 85ms/step - loss: 0.5099 - accuracy: 0.7541 - val_loss: 0.5240 - val_accuracy: 0.7432\n",
      "Epoch 8/15\n",
      "157/157 [==============================] - 13s 85ms/step - loss: 0.4939 - accuracy: 0.7649 - val_loss: 0.5021 - val_accuracy: 0.7616\n",
      "Epoch 9/15\n",
      "157/157 [==============================] - 13s 85ms/step - loss: 0.4795 - accuracy: 0.7745 - val_loss: 0.4921 - val_accuracy: 0.7662\n",
      "Epoch 10/15\n",
      "157/157 [==============================] - 13s 85ms/step - loss: 0.4662 - accuracy: 0.7834 - val_loss: 0.4825 - val_accuracy: 0.7727\n",
      "Epoch 11/15\n",
      "157/157 [==============================] - 13s 85ms/step - loss: 0.4546 - accuracy: 0.7911 - val_loss: 0.4743 - val_accuracy: 0.7783\n",
      "Epoch 12/15\n",
      "157/157 [==============================] - 13s 85ms/step - loss: 0.4430 - accuracy: 0.7985 - val_loss: 0.4612 - val_accuracy: 0.7868\n",
      "Epoch 13/15\n",
      "157/157 [==============================] - 13s 85ms/step - loss: 0.4336 - accuracy: 0.8018 - val_loss: 0.4528 - val_accuracy: 0.7912\n",
      "Epoch 14/15\n",
      "157/157 [==============================] - 13s 85ms/step - loss: 0.4237 - accuracy: 0.8082 - val_loss: 0.4484 - val_accuracy: 0.7935\n",
      "Epoch 15/15\n",
      "157/157 [==============================] - 13s 85ms/step - loss: 0.4140 - accuracy: 0.8147 - val_loss: 0.4374 - val_accuracy: 0.8005\n"
     ]
    },
    {
     "data": {
      "text/plain": [
       "<tensorflow.python.keras.callbacks.History at 0x7fb208740160>"
      ]
     },
     "execution_count": 159,
     "metadata": {
      "tags": []
     },
     "output_type": "execute_result"
    }
   ],
   "source": [
    "deep_LSTM_model.fit(X_train, Y_train, batch_size=256, epochs=15, validation_data=(X_test, Y_test))"
   ]
  },
  {
   "cell_type": "markdown",
   "metadata": {
    "colab_type": "text",
    "id": "txj2YZXWzKte"
   },
   "source": [
    "### **Evaluate deep LSTM model**"
   ]
  },
  {
   "cell_type": "code",
   "execution_count": null,
   "metadata": {
    "colab": {},
    "colab_type": "code",
    "id": "WH5SXW36ztGo"
   },
   "outputs": [],
   "source": [
    "predictions = np.around(deep_LSTM_model.predict(X_test))"
   ]
  },
  {
   "cell_type": "code",
   "execution_count": null,
   "metadata": {
    "colab": {
     "base_uri": "https://localhost:8080/",
     "height": 69
    },
    "colab_type": "code",
    "id": "_vR5XtOR7hDt",
    "outputId": "8c48dfe9-b9b9-432a-c024-aaebf2a79771"
   },
   "outputs": [
    {
     "name": "stdout",
     "output_type": "stream",
     "text": [
      "Precision = 0.8011\n",
      "Recall = 0.8005\n",
      "F1 Score = 0.8004\n"
     ]
    }
   ],
   "source": [
    "precision, recall, f1, _ = precision_recall_fscore_support(Y_test, predictions, average='weighted')\n",
    "print('Precision =', round(precision, 4))\n",
    "print('Recall =', round(recall, 4))\n",
    "print('F1 Score =', round(f1, 4))"
   ]
  },
  {
   "cell_type": "markdown",
   "metadata": {
    "colab_type": "text",
    "id": "rdVZDchNsQTH"
   },
   "source": [
    "### **Make predictions**"
   ]
  },
  {
   "cell_type": "code",
   "execution_count": 126,
   "metadata": {
    "colab": {},
    "colab_type": "code",
    "id": "uMVfd4XWsPUy"
   },
   "outputs": [],
   "source": [
    "def predict(review, model):\n",
    "    review = clean_review(review)\n",
    "    words = list(filter(lambda x: len(x) > 0, map(str.strip, review.split(' '))))\n",
    "    inp = np.array(convert_to_ind_seq(words)[0]).reshape((1, review_max_len))\n",
    "    out = model.predict(inp)[0][0]\n",
    "    print(out)\n",
    "    return 'Positive Review' if out >= 0.5 else 'Negative Review'"
   ]
  },
  {
   "cell_type": "code",
   "execution_count": null,
   "metadata": {
    "colab": {},
    "colab_type": "code",
    "id": "QzZ2w_tlsZmd"
   },
   "outputs": [],
   "source": [
    "predict('It was not a good movie.', deep_LSTM_model)"
   ]
  },
  {
   "cell_type": "markdown",
   "metadata": {
    "colab_type": "text",
    "id": "hcbDrsGm57WM"
   },
   "source": [
    "## **Attention Model**"
   ]
  },
  {
   "cell_type": "code",
   "execution_count": 25,
   "metadata": {
    "colab": {},
    "colab_type": "code",
    "id": "muTZcN_dhzyU"
   },
   "outputs": [],
   "source": [
    "attention_length = 100\n",
    "n_bi_rnn = 64\n",
    "n_attention_lstm = 128"
   ]
  },
  {
   "cell_type": "code",
   "execution_count": 26,
   "metadata": {
    "colab": {},
    "colab_type": "code",
    "id": "5H-s3RHK5_QW"
   },
   "outputs": [],
   "source": [
    "def get_attention_model():\n",
    "    repeat = tf.keras.layers.RepeatVector(review_max_len)\n",
    "    concatenate = tf.keras.layers.Concatenate(axis=-1)\n",
    "    dense1 = tf.keras.layers.Dense(32, activation='tanh')\n",
    "    dense2 = tf.keras.layers.Dense(1, activation='relu')\n",
    "    activate = tf.keras.layers.Activation('softmax')\n",
    "    dot = tf.keras.layers.Dot(axes=1)\n",
    "    output = tf.keras.layers.Dense(1, activation='sigmoid')\n",
    "\n",
    "    def get_context(bi_rnn, prev_activation):\n",
    "        prev_activation = repeat(prev_activation)\n",
    "        inputs = concatenate([bi_rnn, prev_activation])\n",
    "        intermediates = dense1(inputs)\n",
    "        energies = dense2(intermediates)\n",
    "        alphas = activate(energies)\n",
    "        return dot([alphas, bi_rnn])\n",
    "\n",
    "    a0 = tf.keras.layers.Input(shape=(n_attention_lstm,))\n",
    "    c0 = tf.keras.layers.Input(shape=(n_attention_lstm,))\n",
    "    inputs = tf.keras.layers.Input(shape=(review_max_len,))\n",
    "    embeddings = tf.keras.layers.Embedding(dictionary_size + 3, embedding_dim, \n",
    "                    weights=[embedding_mat], trainable=True)(inputs)\n",
    "    bi_rnn1 = tf.keras.layers.Bidirectional(tf.keras.layers.LSTM(units=n_bi_rnn, \n",
    "                    return_sequences=True))(embeddings)\n",
    "    bi_rnn2 = tf.keras.layers.Bidirectional(tf.keras.layers.LSTM(units=n_bi_rnn, \n",
    "                    return_sequences=True))(bi_rnn1)\n",
    "    a = a0\n",
    "    c = c0\n",
    "    attention_LSTM = tf.keras.layers.LSTM(units=n_attention_lstm, return_state=True)\n",
    "    outputs = []\n",
    "    for i in range(attention_length):\n",
    "        context = get_context(bi_rnn2, a)\n",
    "        a, _, c = attention_LSTM(inputs=context, initial_state=[a, c])\n",
    "        if i == attention_length - 1:\n",
    "            outputs.append(output(a))\n",
    "    \n",
    "    model = tf.keras.models.Model(inputs=[inputs, a0, c0], outputs=outputs)\n",
    "    return model"
   ]
  },
  {
   "cell_type": "code",
   "execution_count": 27,
   "metadata": {
    "colab": {},
    "colab_type": "code",
    "id": "OBepvUi7GPyf"
   },
   "outputs": [],
   "source": [
    "attention_model = get_attention_model()"
   ]
  },
  {
   "cell_type": "code",
   "execution_count": 28,
   "metadata": {
    "colab": {
     "base_uri": "https://localhost:8080/",
     "height": 1000
    },
    "colab_type": "code",
    "id": "DJGC3QwVG47T",
    "outputId": "4e23ebc1-3669-4e50-eb61-7c3d22caaf54"
   },
   "outputs": [
    {
     "name": "stdout",
     "output_type": "stream",
     "text": [
      "Model: \"functional_3\"\n",
      "__________________________________________________________________________________________________\n",
      "Layer (type)                    Output Shape         Param #     Connected to                     \n",
      "==================================================================================================\n",
      "input_4 (InputLayer)            [(None, 300)]        0                                            \n",
      "__________________________________________________________________________________________________\n",
      "embedding_1 (Embedding)         (None, 300, 64)      1600192     input_4[0][0]                    \n",
      "__________________________________________________________________________________________________\n",
      "bidirectional (Bidirectional)   (None, 300, 128)     66048       embedding_1[0][0]                \n",
      "__________________________________________________________________________________________________\n",
      "input_2 (InputLayer)            [(None, 128)]        0                                            \n",
      "__________________________________________________________________________________________________\n",
      "bidirectional_1 (Bidirectional) (None, 300, 128)     98816       bidirectional[0][0]              \n",
      "__________________________________________________________________________________________________\n",
      "repeat_vector (RepeatVector)    (None, 300, 128)     0           input_2[0][0]                    \n",
      "                                                                 lstm_4[0][0]                     \n",
      "                                                                 lstm_4[1][0]                     \n",
      "                                                                 lstm_4[2][0]                     \n",
      "                                                                 lstm_4[3][0]                     \n",
      "                                                                 lstm_4[4][0]                     \n",
      "                                                                 lstm_4[5][0]                     \n",
      "                                                                 lstm_4[6][0]                     \n",
      "                                                                 lstm_4[7][0]                     \n",
      "                                                                 lstm_4[8][0]                     \n",
      "                                                                 lstm_4[9][0]                     \n",
      "                                                                 lstm_4[10][0]                    \n",
      "                                                                 lstm_4[11][0]                    \n",
      "                                                                 lstm_4[12][0]                    \n",
      "                                                                 lstm_4[13][0]                    \n",
      "                                                                 lstm_4[14][0]                    \n",
      "                                                                 lstm_4[15][0]                    \n",
      "                                                                 lstm_4[16][0]                    \n",
      "                                                                 lstm_4[17][0]                    \n",
      "                                                                 lstm_4[18][0]                    \n",
      "                                                                 lstm_4[19][0]                    \n",
      "                                                                 lstm_4[20][0]                    \n",
      "                                                                 lstm_4[21][0]                    \n",
      "                                                                 lstm_4[22][0]                    \n",
      "                                                                 lstm_4[23][0]                    \n",
      "                                                                 lstm_4[24][0]                    \n",
      "                                                                 lstm_4[25][0]                    \n",
      "                                                                 lstm_4[26][0]                    \n",
      "                                                                 lstm_4[27][0]                    \n",
      "                                                                 lstm_4[28][0]                    \n",
      "                                                                 lstm_4[29][0]                    \n",
      "                                                                 lstm_4[30][0]                    \n",
      "                                                                 lstm_4[31][0]                    \n",
      "                                                                 lstm_4[32][0]                    \n",
      "                                                                 lstm_4[33][0]                    \n",
      "                                                                 lstm_4[34][0]                    \n",
      "                                                                 lstm_4[35][0]                    \n",
      "                                                                 lstm_4[36][0]                    \n",
      "                                                                 lstm_4[37][0]                    \n",
      "                                                                 lstm_4[38][0]                    \n",
      "                                                                 lstm_4[39][0]                    \n",
      "                                                                 lstm_4[40][0]                    \n",
      "                                                                 lstm_4[41][0]                    \n",
      "                                                                 lstm_4[42][0]                    \n",
      "                                                                 lstm_4[43][0]                    \n",
      "                                                                 lstm_4[44][0]                    \n",
      "                                                                 lstm_4[45][0]                    \n",
      "                                                                 lstm_4[46][0]                    \n",
      "                                                                 lstm_4[47][0]                    \n",
      "                                                                 lstm_4[48][0]                    \n",
      "                                                                 lstm_4[49][0]                    \n",
      "                                                                 lstm_4[50][0]                    \n",
      "                                                                 lstm_4[51][0]                    \n",
      "                                                                 lstm_4[52][0]                    \n",
      "                                                                 lstm_4[53][0]                    \n",
      "                                                                 lstm_4[54][0]                    \n",
      "                                                                 lstm_4[55][0]                    \n",
      "                                                                 lstm_4[56][0]                    \n",
      "                                                                 lstm_4[57][0]                    \n",
      "                                                                 lstm_4[58][0]                    \n",
      "                                                                 lstm_4[59][0]                    \n",
      "                                                                 lstm_4[60][0]                    \n",
      "                                                                 lstm_4[61][0]                    \n",
      "                                                                 lstm_4[62][0]                    \n",
      "                                                                 lstm_4[63][0]                    \n",
      "                                                                 lstm_4[64][0]                    \n",
      "                                                                 lstm_4[65][0]                    \n",
      "                                                                 lstm_4[66][0]                    \n",
      "                                                                 lstm_4[67][0]                    \n",
      "                                                                 lstm_4[68][0]                    \n",
      "                                                                 lstm_4[69][0]                    \n",
      "                                                                 lstm_4[70][0]                    \n",
      "                                                                 lstm_4[71][0]                    \n",
      "                                                                 lstm_4[72][0]                    \n",
      "                                                                 lstm_4[73][0]                    \n",
      "                                                                 lstm_4[74][0]                    \n",
      "                                                                 lstm_4[75][0]                    \n",
      "                                                                 lstm_4[76][0]                    \n",
      "                                                                 lstm_4[77][0]                    \n",
      "                                                                 lstm_4[78][0]                    \n",
      "                                                                 lstm_4[79][0]                    \n",
      "                                                                 lstm_4[80][0]                    \n",
      "                                                                 lstm_4[81][0]                    \n",
      "                                                                 lstm_4[82][0]                    \n",
      "                                                                 lstm_4[83][0]                    \n",
      "                                                                 lstm_4[84][0]                    \n",
      "                                                                 lstm_4[85][0]                    \n",
      "                                                                 lstm_4[86][0]                    \n",
      "                                                                 lstm_4[87][0]                    \n",
      "                                                                 lstm_4[88][0]                    \n",
      "                                                                 lstm_4[89][0]                    \n",
      "                                                                 lstm_4[90][0]                    \n",
      "                                                                 lstm_4[91][0]                    \n",
      "                                                                 lstm_4[92][0]                    \n",
      "                                                                 lstm_4[93][0]                    \n",
      "                                                                 lstm_4[94][0]                    \n",
      "                                                                 lstm_4[95][0]                    \n",
      "                                                                 lstm_4[96][0]                    \n",
      "                                                                 lstm_4[97][0]                    \n",
      "                                                                 lstm_4[98][0]                    \n",
      "__________________________________________________________________________________________________\n",
      "concatenate (Concatenate)       (None, 300, 256)     0           bidirectional_1[0][0]            \n",
      "                                                                 repeat_vector[0][0]              \n",
      "                                                                 bidirectional_1[0][0]            \n",
      "                                                                 repeat_vector[1][0]              \n",
      "                                                                 bidirectional_1[0][0]            \n",
      "                                                                 repeat_vector[2][0]              \n",
      "                                                                 bidirectional_1[0][0]            \n",
      "                                                                 repeat_vector[3][0]              \n",
      "                                                                 bidirectional_1[0][0]            \n",
      "                                                                 repeat_vector[4][0]              \n",
      "                                                                 bidirectional_1[0][0]            \n",
      "                                                                 repeat_vector[5][0]              \n",
      "                                                                 bidirectional_1[0][0]            \n",
      "                                                                 repeat_vector[6][0]              \n",
      "                                                                 bidirectional_1[0][0]            \n",
      "                                                                 repeat_vector[7][0]              \n",
      "                                                                 bidirectional_1[0][0]            \n",
      "                                                                 repeat_vector[8][0]              \n",
      "                                                                 bidirectional_1[0][0]            \n",
      "                                                                 repeat_vector[9][0]              \n",
      "                                                                 bidirectional_1[0][0]            \n",
      "                                                                 repeat_vector[10][0]             \n",
      "                                                                 bidirectional_1[0][0]            \n",
      "                                                                 repeat_vector[11][0]             \n",
      "                                                                 bidirectional_1[0][0]            \n",
      "                                                                 repeat_vector[12][0]             \n",
      "                                                                 bidirectional_1[0][0]            \n",
      "                                                                 repeat_vector[13][0]             \n",
      "                                                                 bidirectional_1[0][0]            \n",
      "                                                                 repeat_vector[14][0]             \n",
      "                                                                 bidirectional_1[0][0]            \n",
      "                                                                 repeat_vector[15][0]             \n",
      "                                                                 bidirectional_1[0][0]            \n",
      "                                                                 repeat_vector[16][0]             \n",
      "                                                                 bidirectional_1[0][0]            \n",
      "                                                                 repeat_vector[17][0]             \n",
      "                                                                 bidirectional_1[0][0]            \n",
      "                                                                 repeat_vector[18][0]             \n",
      "                                                                 bidirectional_1[0][0]            \n",
      "                                                                 repeat_vector[19][0]             \n",
      "                                                                 bidirectional_1[0][0]            \n",
      "                                                                 repeat_vector[20][0]             \n",
      "                                                                 bidirectional_1[0][0]            \n",
      "                                                                 repeat_vector[21][0]             \n",
      "                                                                 bidirectional_1[0][0]            \n",
      "                                                                 repeat_vector[22][0]             \n",
      "                                                                 bidirectional_1[0][0]            \n",
      "                                                                 repeat_vector[23][0]             \n",
      "                                                                 bidirectional_1[0][0]            \n",
      "                                                                 repeat_vector[24][0]             \n",
      "                                                                 bidirectional_1[0][0]            \n",
      "                                                                 repeat_vector[25][0]             \n",
      "                                                                 bidirectional_1[0][0]            \n",
      "                                                                 repeat_vector[26][0]             \n",
      "                                                                 bidirectional_1[0][0]            \n",
      "                                                                 repeat_vector[27][0]             \n",
      "                                                                 bidirectional_1[0][0]            \n",
      "                                                                 repeat_vector[28][0]             \n",
      "                                                                 bidirectional_1[0][0]            \n",
      "                                                                 repeat_vector[29][0]             \n",
      "                                                                 bidirectional_1[0][0]            \n",
      "                                                                 repeat_vector[30][0]             \n",
      "                                                                 bidirectional_1[0][0]            \n",
      "                                                                 repeat_vector[31][0]             \n",
      "                                                                 bidirectional_1[0][0]            \n",
      "                                                                 repeat_vector[32][0]             \n",
      "                                                                 bidirectional_1[0][0]            \n",
      "                                                                 repeat_vector[33][0]             \n",
      "                                                                 bidirectional_1[0][0]            \n",
      "                                                                 repeat_vector[34][0]             \n",
      "                                                                 bidirectional_1[0][0]            \n",
      "                                                                 repeat_vector[35][0]             \n",
      "                                                                 bidirectional_1[0][0]            \n",
      "                                                                 repeat_vector[36][0]             \n",
      "                                                                 bidirectional_1[0][0]            \n",
      "                                                                 repeat_vector[37][0]             \n",
      "                                                                 bidirectional_1[0][0]            \n",
      "                                                                 repeat_vector[38][0]             \n",
      "                                                                 bidirectional_1[0][0]            \n",
      "                                                                 repeat_vector[39][0]             \n",
      "                                                                 bidirectional_1[0][0]            \n",
      "                                                                 repeat_vector[40][0]             \n",
      "                                                                 bidirectional_1[0][0]            \n",
      "                                                                 repeat_vector[41][0]             \n",
      "                                                                 bidirectional_1[0][0]            \n",
      "                                                                 repeat_vector[42][0]             \n",
      "                                                                 bidirectional_1[0][0]            \n",
      "                                                                 repeat_vector[43][0]             \n",
      "                                                                 bidirectional_1[0][0]            \n",
      "                                                                 repeat_vector[44][0]             \n",
      "                                                                 bidirectional_1[0][0]            \n",
      "                                                                 repeat_vector[45][0]             \n",
      "                                                                 bidirectional_1[0][0]            \n",
      "                                                                 repeat_vector[46][0]             \n",
      "                                                                 bidirectional_1[0][0]            \n",
      "                                                                 repeat_vector[47][0]             \n",
      "                                                                 bidirectional_1[0][0]            \n",
      "                                                                 repeat_vector[48][0]             \n",
      "                                                                 bidirectional_1[0][0]            \n",
      "                                                                 repeat_vector[49][0]             \n",
      "                                                                 bidirectional_1[0][0]            \n",
      "                                                                 repeat_vector[50][0]             \n",
      "                                                                 bidirectional_1[0][0]            \n",
      "                                                                 repeat_vector[51][0]             \n",
      "                                                                 bidirectional_1[0][0]            \n",
      "                                                                 repeat_vector[52][0]             \n",
      "                                                                 bidirectional_1[0][0]            \n",
      "                                                                 repeat_vector[53][0]             \n",
      "                                                                 bidirectional_1[0][0]            \n",
      "                                                                 repeat_vector[54][0]             \n",
      "                                                                 bidirectional_1[0][0]            \n",
      "                                                                 repeat_vector[55][0]             \n",
      "                                                                 bidirectional_1[0][0]            \n",
      "                                                                 repeat_vector[56][0]             \n",
      "                                                                 bidirectional_1[0][0]            \n",
      "                                                                 repeat_vector[57][0]             \n",
      "                                                                 bidirectional_1[0][0]            \n",
      "                                                                 repeat_vector[58][0]             \n",
      "                                                                 bidirectional_1[0][0]            \n",
      "                                                                 repeat_vector[59][0]             \n",
      "                                                                 bidirectional_1[0][0]            \n",
      "                                                                 repeat_vector[60][0]             \n",
      "                                                                 bidirectional_1[0][0]            \n",
      "                                                                 repeat_vector[61][0]             \n",
      "                                                                 bidirectional_1[0][0]            \n",
      "                                                                 repeat_vector[62][0]             \n",
      "                                                                 bidirectional_1[0][0]            \n",
      "                                                                 repeat_vector[63][0]             \n",
      "                                                                 bidirectional_1[0][0]            \n",
      "                                                                 repeat_vector[64][0]             \n",
      "                                                                 bidirectional_1[0][0]            \n",
      "                                                                 repeat_vector[65][0]             \n",
      "                                                                 bidirectional_1[0][0]            \n",
      "                                                                 repeat_vector[66][0]             \n",
      "                                                                 bidirectional_1[0][0]            \n",
      "                                                                 repeat_vector[67][0]             \n",
      "                                                                 bidirectional_1[0][0]            \n",
      "                                                                 repeat_vector[68][0]             \n",
      "                                                                 bidirectional_1[0][0]            \n",
      "                                                                 repeat_vector[69][0]             \n",
      "                                                                 bidirectional_1[0][0]            \n",
      "                                                                 repeat_vector[70][0]             \n",
      "                                                                 bidirectional_1[0][0]            \n",
      "                                                                 repeat_vector[71][0]             \n",
      "                                                                 bidirectional_1[0][0]            \n",
      "                                                                 repeat_vector[72][0]             \n",
      "                                                                 bidirectional_1[0][0]            \n",
      "                                                                 repeat_vector[73][0]             \n",
      "                                                                 bidirectional_1[0][0]            \n",
      "                                                                 repeat_vector[74][0]             \n",
      "                                                                 bidirectional_1[0][0]            \n",
      "                                                                 repeat_vector[75][0]             \n",
      "                                                                 bidirectional_1[0][0]            \n",
      "                                                                 repeat_vector[76][0]             \n",
      "                                                                 bidirectional_1[0][0]            \n",
      "                                                                 repeat_vector[77][0]             \n",
      "                                                                 bidirectional_1[0][0]            \n",
      "                                                                 repeat_vector[78][0]             \n",
      "                                                                 bidirectional_1[0][0]            \n",
      "                                                                 repeat_vector[79][0]             \n",
      "                                                                 bidirectional_1[0][0]            \n",
      "                                                                 repeat_vector[80][0]             \n",
      "                                                                 bidirectional_1[0][0]            \n",
      "                                                                 repeat_vector[81][0]             \n",
      "                                                                 bidirectional_1[0][0]            \n",
      "                                                                 repeat_vector[82][0]             \n",
      "                                                                 bidirectional_1[0][0]            \n",
      "                                                                 repeat_vector[83][0]             \n",
      "                                                                 bidirectional_1[0][0]            \n",
      "                                                                 repeat_vector[84][0]             \n",
      "                                                                 bidirectional_1[0][0]            \n",
      "                                                                 repeat_vector[85][0]             \n",
      "                                                                 bidirectional_1[0][0]            \n",
      "                                                                 repeat_vector[86][0]             \n",
      "                                                                 bidirectional_1[0][0]            \n",
      "                                                                 repeat_vector[87][0]             \n",
      "                                                                 bidirectional_1[0][0]            \n",
      "                                                                 repeat_vector[88][0]             \n",
      "                                                                 bidirectional_1[0][0]            \n",
      "                                                                 repeat_vector[89][0]             \n",
      "                                                                 bidirectional_1[0][0]            \n",
      "                                                                 repeat_vector[90][0]             \n",
      "                                                                 bidirectional_1[0][0]            \n",
      "                                                                 repeat_vector[91][0]             \n",
      "                                                                 bidirectional_1[0][0]            \n",
      "                                                                 repeat_vector[92][0]             \n",
      "                                                                 bidirectional_1[0][0]            \n",
      "                                                                 repeat_vector[93][0]             \n",
      "                                                                 bidirectional_1[0][0]            \n",
      "                                                                 repeat_vector[94][0]             \n",
      "                                                                 bidirectional_1[0][0]            \n",
      "                                                                 repeat_vector[95][0]             \n",
      "                                                                 bidirectional_1[0][0]            \n",
      "                                                                 repeat_vector[96][0]             \n",
      "                                                                 bidirectional_1[0][0]            \n",
      "                                                                 repeat_vector[97][0]             \n",
      "                                                                 bidirectional_1[0][0]            \n",
      "                                                                 repeat_vector[98][0]             \n",
      "                                                                 bidirectional_1[0][0]            \n",
      "                                                                 repeat_vector[99][0]             \n",
      "__________________________________________________________________________________________________\n",
      "dense_1 (Dense)                 (None, 300, 32)      8224        concatenate[0][0]                \n",
      "                                                                 concatenate[1][0]                \n",
      "                                                                 concatenate[2][0]                \n",
      "                                                                 concatenate[3][0]                \n",
      "                                                                 concatenate[4][0]                \n",
      "                                                                 concatenate[5][0]                \n",
      "                                                                 concatenate[6][0]                \n",
      "                                                                 concatenate[7][0]                \n",
      "                                                                 concatenate[8][0]                \n",
      "                                                                 concatenate[9][0]                \n",
      "                                                                 concatenate[10][0]               \n",
      "                                                                 concatenate[11][0]               \n",
      "                                                                 concatenate[12][0]               \n",
      "                                                                 concatenate[13][0]               \n",
      "                                                                 concatenate[14][0]               \n",
      "                                                                 concatenate[15][0]               \n",
      "                                                                 concatenate[16][0]               \n",
      "                                                                 concatenate[17][0]               \n",
      "                                                                 concatenate[18][0]               \n",
      "                                                                 concatenate[19][0]               \n",
      "                                                                 concatenate[20][0]               \n",
      "                                                                 concatenate[21][0]               \n",
      "                                                                 concatenate[22][0]               \n",
      "                                                                 concatenate[23][0]               \n",
      "                                                                 concatenate[24][0]               \n",
      "                                                                 concatenate[25][0]               \n",
      "                                                                 concatenate[26][0]               \n",
      "                                                                 concatenate[27][0]               \n",
      "                                                                 concatenate[28][0]               \n",
      "                                                                 concatenate[29][0]               \n",
      "                                                                 concatenate[30][0]               \n",
      "                                                                 concatenate[31][0]               \n",
      "                                                                 concatenate[32][0]               \n",
      "                                                                 concatenate[33][0]               \n",
      "                                                                 concatenate[34][0]               \n",
      "                                                                 concatenate[35][0]               \n",
      "                                                                 concatenate[36][0]               \n",
      "                                                                 concatenate[37][0]               \n",
      "                                                                 concatenate[38][0]               \n",
      "                                                                 concatenate[39][0]               \n",
      "                                                                 concatenate[40][0]               \n",
      "                                                                 concatenate[41][0]               \n",
      "                                                                 concatenate[42][0]               \n",
      "                                                                 concatenate[43][0]               \n",
      "                                                                 concatenate[44][0]               \n",
      "                                                                 concatenate[45][0]               \n",
      "                                                                 concatenate[46][0]               \n",
      "                                                                 concatenate[47][0]               \n",
      "                                                                 concatenate[48][0]               \n",
      "                                                                 concatenate[49][0]               \n",
      "                                                                 concatenate[50][0]               \n",
      "                                                                 concatenate[51][0]               \n",
      "                                                                 concatenate[52][0]               \n",
      "                                                                 concatenate[53][0]               \n",
      "                                                                 concatenate[54][0]               \n",
      "                                                                 concatenate[55][0]               \n",
      "                                                                 concatenate[56][0]               \n",
      "                                                                 concatenate[57][0]               \n",
      "                                                                 concatenate[58][0]               \n",
      "                                                                 concatenate[59][0]               \n",
      "                                                                 concatenate[60][0]               \n",
      "                                                                 concatenate[61][0]               \n",
      "                                                                 concatenate[62][0]               \n",
      "                                                                 concatenate[63][0]               \n",
      "                                                                 concatenate[64][0]               \n",
      "                                                                 concatenate[65][0]               \n",
      "                                                                 concatenate[66][0]               \n",
      "                                                                 concatenate[67][0]               \n",
      "                                                                 concatenate[68][0]               \n",
      "                                                                 concatenate[69][0]               \n",
      "                                                                 concatenate[70][0]               \n",
      "                                                                 concatenate[71][0]               \n",
      "                                                                 concatenate[72][0]               \n",
      "                                                                 concatenate[73][0]               \n",
      "                                                                 concatenate[74][0]               \n",
      "                                                                 concatenate[75][0]               \n",
      "                                                                 concatenate[76][0]               \n",
      "                                                                 concatenate[77][0]               \n",
      "                                                                 concatenate[78][0]               \n",
      "                                                                 concatenate[79][0]               \n",
      "                                                                 concatenate[80][0]               \n",
      "                                                                 concatenate[81][0]               \n",
      "                                                                 concatenate[82][0]               \n",
      "                                                                 concatenate[83][0]               \n",
      "                                                                 concatenate[84][0]               \n",
      "                                                                 concatenate[85][0]               \n",
      "                                                                 concatenate[86][0]               \n",
      "                                                                 concatenate[87][0]               \n",
      "                                                                 concatenate[88][0]               \n",
      "                                                                 concatenate[89][0]               \n",
      "                                                                 concatenate[90][0]               \n",
      "                                                                 concatenate[91][0]               \n",
      "                                                                 concatenate[92][0]               \n",
      "                                                                 concatenate[93][0]               \n",
      "                                                                 concatenate[94][0]               \n",
      "                                                                 concatenate[95][0]               \n",
      "                                                                 concatenate[96][0]               \n",
      "                                                                 concatenate[97][0]               \n",
      "                                                                 concatenate[98][0]               \n",
      "                                                                 concatenate[99][0]               \n",
      "__________________________________________________________________________________________________\n",
      "dense_2 (Dense)                 (None, 300, 1)       33          dense_1[0][0]                    \n",
      "                                                                 dense_1[1][0]                    \n",
      "                                                                 dense_1[2][0]                    \n",
      "                                                                 dense_1[3][0]                    \n",
      "                                                                 dense_1[4][0]                    \n",
      "                                                                 dense_1[5][0]                    \n",
      "                                                                 dense_1[6][0]                    \n",
      "                                                                 dense_1[7][0]                    \n",
      "                                                                 dense_1[8][0]                    \n",
      "                                                                 dense_1[9][0]                    \n",
      "                                                                 dense_1[10][0]                   \n",
      "                                                                 dense_1[11][0]                   \n",
      "                                                                 dense_1[12][0]                   \n",
      "                                                                 dense_1[13][0]                   \n",
      "                                                                 dense_1[14][0]                   \n",
      "                                                                 dense_1[15][0]                   \n",
      "                                                                 dense_1[16][0]                   \n",
      "                                                                 dense_1[17][0]                   \n",
      "                                                                 dense_1[18][0]                   \n",
      "                                                                 dense_1[19][0]                   \n",
      "                                                                 dense_1[20][0]                   \n",
      "                                                                 dense_1[21][0]                   \n",
      "                                                                 dense_1[22][0]                   \n",
      "                                                                 dense_1[23][0]                   \n",
      "                                                                 dense_1[24][0]                   \n",
      "                                                                 dense_1[25][0]                   \n",
      "                                                                 dense_1[26][0]                   \n",
      "                                                                 dense_1[27][0]                   \n",
      "                                                                 dense_1[28][0]                   \n",
      "                                                                 dense_1[29][0]                   \n",
      "                                                                 dense_1[30][0]                   \n",
      "                                                                 dense_1[31][0]                   \n",
      "                                                                 dense_1[32][0]                   \n",
      "                                                                 dense_1[33][0]                   \n",
      "                                                                 dense_1[34][0]                   \n",
      "                                                                 dense_1[35][0]                   \n",
      "                                                                 dense_1[36][0]                   \n",
      "                                                                 dense_1[37][0]                   \n",
      "                                                                 dense_1[38][0]                   \n",
      "                                                                 dense_1[39][0]                   \n",
      "                                                                 dense_1[40][0]                   \n",
      "                                                                 dense_1[41][0]                   \n",
      "                                                                 dense_1[42][0]                   \n",
      "                                                                 dense_1[43][0]                   \n",
      "                                                                 dense_1[44][0]                   \n",
      "                                                                 dense_1[45][0]                   \n",
      "                                                                 dense_1[46][0]                   \n",
      "                                                                 dense_1[47][0]                   \n",
      "                                                                 dense_1[48][0]                   \n",
      "                                                                 dense_1[49][0]                   \n",
      "                                                                 dense_1[50][0]                   \n",
      "                                                                 dense_1[51][0]                   \n",
      "                                                                 dense_1[52][0]                   \n",
      "                                                                 dense_1[53][0]                   \n",
      "                                                                 dense_1[54][0]                   \n",
      "                                                                 dense_1[55][0]                   \n",
      "                                                                 dense_1[56][0]                   \n",
      "                                                                 dense_1[57][0]                   \n",
      "                                                                 dense_1[58][0]                   \n",
      "                                                                 dense_1[59][0]                   \n",
      "                                                                 dense_1[60][0]                   \n",
      "                                                                 dense_1[61][0]                   \n",
      "                                                                 dense_1[62][0]                   \n",
      "                                                                 dense_1[63][0]                   \n",
      "                                                                 dense_1[64][0]                   \n",
      "                                                                 dense_1[65][0]                   \n",
      "                                                                 dense_1[66][0]                   \n",
      "                                                                 dense_1[67][0]                   \n",
      "                                                                 dense_1[68][0]                   \n",
      "                                                                 dense_1[69][0]                   \n",
      "                                                                 dense_1[70][0]                   \n",
      "                                                                 dense_1[71][0]                   \n",
      "                                                                 dense_1[72][0]                   \n",
      "                                                                 dense_1[73][0]                   \n",
      "                                                                 dense_1[74][0]                   \n",
      "                                                                 dense_1[75][0]                   \n",
      "                                                                 dense_1[76][0]                   \n",
      "                                                                 dense_1[77][0]                   \n",
      "                                                                 dense_1[78][0]                   \n",
      "                                                                 dense_1[79][0]                   \n",
      "                                                                 dense_1[80][0]                   \n",
      "                                                                 dense_1[81][0]                   \n",
      "                                                                 dense_1[82][0]                   \n",
      "                                                                 dense_1[83][0]                   \n",
      "                                                                 dense_1[84][0]                   \n",
      "                                                                 dense_1[85][0]                   \n",
      "                                                                 dense_1[86][0]                   \n",
      "                                                                 dense_1[87][0]                   \n",
      "                                                                 dense_1[88][0]                   \n",
      "                                                                 dense_1[89][0]                   \n",
      "                                                                 dense_1[90][0]                   \n",
      "                                                                 dense_1[91][0]                   \n",
      "                                                                 dense_1[92][0]                   \n",
      "                                                                 dense_1[93][0]                   \n",
      "                                                                 dense_1[94][0]                   \n",
      "                                                                 dense_1[95][0]                   \n",
      "                                                                 dense_1[96][0]                   \n",
      "                                                                 dense_1[97][0]                   \n",
      "                                                                 dense_1[98][0]                   \n",
      "                                                                 dense_1[99][0]                   \n",
      "__________________________________________________________________________________________________\n",
      "activation (Activation)         (None, 300, 1)       0           dense_2[0][0]                    \n",
      "                                                                 dense_2[1][0]                    \n",
      "                                                                 dense_2[2][0]                    \n",
      "                                                                 dense_2[3][0]                    \n",
      "                                                                 dense_2[4][0]                    \n",
      "                                                                 dense_2[5][0]                    \n",
      "                                                                 dense_2[6][0]                    \n",
      "                                                                 dense_2[7][0]                    \n",
      "                                                                 dense_2[8][0]                    \n",
      "                                                                 dense_2[9][0]                    \n",
      "                                                                 dense_2[10][0]                   \n",
      "                                                                 dense_2[11][0]                   \n",
      "                                                                 dense_2[12][0]                   \n",
      "                                                                 dense_2[13][0]                   \n",
      "                                                                 dense_2[14][0]                   \n",
      "                                                                 dense_2[15][0]                   \n",
      "                                                                 dense_2[16][0]                   \n",
      "                                                                 dense_2[17][0]                   \n",
      "                                                                 dense_2[18][0]                   \n",
      "                                                                 dense_2[19][0]                   \n",
      "                                                                 dense_2[20][0]                   \n",
      "                                                                 dense_2[21][0]                   \n",
      "                                                                 dense_2[22][0]                   \n",
      "                                                                 dense_2[23][0]                   \n",
      "                                                                 dense_2[24][0]                   \n",
      "                                                                 dense_2[25][0]                   \n",
      "                                                                 dense_2[26][0]                   \n",
      "                                                                 dense_2[27][0]                   \n",
      "                                                                 dense_2[28][0]                   \n",
      "                                                                 dense_2[29][0]                   \n",
      "                                                                 dense_2[30][0]                   \n",
      "                                                                 dense_2[31][0]                   \n",
      "                                                                 dense_2[32][0]                   \n",
      "                                                                 dense_2[33][0]                   \n",
      "                                                                 dense_2[34][0]                   \n",
      "                                                                 dense_2[35][0]                   \n",
      "                                                                 dense_2[36][0]                   \n",
      "                                                                 dense_2[37][0]                   \n",
      "                                                                 dense_2[38][0]                   \n",
      "                                                                 dense_2[39][0]                   \n",
      "                                                                 dense_2[40][0]                   \n",
      "                                                                 dense_2[41][0]                   \n",
      "                                                                 dense_2[42][0]                   \n",
      "                                                                 dense_2[43][0]                   \n",
      "                                                                 dense_2[44][0]                   \n",
      "                                                                 dense_2[45][0]                   \n",
      "                                                                 dense_2[46][0]                   \n",
      "                                                                 dense_2[47][0]                   \n",
      "                                                                 dense_2[48][0]                   \n",
      "                                                                 dense_2[49][0]                   \n",
      "                                                                 dense_2[50][0]                   \n",
      "                                                                 dense_2[51][0]                   \n",
      "                                                                 dense_2[52][0]                   \n",
      "                                                                 dense_2[53][0]                   \n",
      "                                                                 dense_2[54][0]                   \n",
      "                                                                 dense_2[55][0]                   \n",
      "                                                                 dense_2[56][0]                   \n",
      "                                                                 dense_2[57][0]                   \n",
      "                                                                 dense_2[58][0]                   \n",
      "                                                                 dense_2[59][0]                   \n",
      "                                                                 dense_2[60][0]                   \n",
      "                                                                 dense_2[61][0]                   \n",
      "                                                                 dense_2[62][0]                   \n",
      "                                                                 dense_2[63][0]                   \n",
      "                                                                 dense_2[64][0]                   \n",
      "                                                                 dense_2[65][0]                   \n",
      "                                                                 dense_2[66][0]                   \n",
      "                                                                 dense_2[67][0]                   \n",
      "                                                                 dense_2[68][0]                   \n",
      "                                                                 dense_2[69][0]                   \n",
      "                                                                 dense_2[70][0]                   \n",
      "                                                                 dense_2[71][0]                   \n",
      "                                                                 dense_2[72][0]                   \n",
      "                                                                 dense_2[73][0]                   \n",
      "                                                                 dense_2[74][0]                   \n",
      "                                                                 dense_2[75][0]                   \n",
      "                                                                 dense_2[76][0]                   \n",
      "                                                                 dense_2[77][0]                   \n",
      "                                                                 dense_2[78][0]                   \n",
      "                                                                 dense_2[79][0]                   \n",
      "                                                                 dense_2[80][0]                   \n",
      "                                                                 dense_2[81][0]                   \n",
      "                                                                 dense_2[82][0]                   \n",
      "                                                                 dense_2[83][0]                   \n",
      "                                                                 dense_2[84][0]                   \n",
      "                                                                 dense_2[85][0]                   \n",
      "                                                                 dense_2[86][0]                   \n",
      "                                                                 dense_2[87][0]                   \n",
      "                                                                 dense_2[88][0]                   \n",
      "                                                                 dense_2[89][0]                   \n",
      "                                                                 dense_2[90][0]                   \n",
      "                                                                 dense_2[91][0]                   \n",
      "                                                                 dense_2[92][0]                   \n",
      "                                                                 dense_2[93][0]                   \n",
      "                                                                 dense_2[94][0]                   \n",
      "                                                                 dense_2[95][0]                   \n",
      "                                                                 dense_2[96][0]                   \n",
      "                                                                 dense_2[97][0]                   \n",
      "                                                                 dense_2[98][0]                   \n",
      "                                                                 dense_2[99][0]                   \n",
      "__________________________________________________________________________________________________\n",
      "dot (Dot)                       (None, 1, 128)       0           activation[0][0]                 \n",
      "                                                                 bidirectional_1[0][0]            \n",
      "                                                                 activation[1][0]                 \n",
      "                                                                 bidirectional_1[0][0]            \n",
      "                                                                 activation[2][0]                 \n",
      "                                                                 bidirectional_1[0][0]            \n",
      "                                                                 activation[3][0]                 \n",
      "                                                                 bidirectional_1[0][0]            \n",
      "                                                                 activation[4][0]                 \n",
      "                                                                 bidirectional_1[0][0]            \n",
      "                                                                 activation[5][0]                 \n",
      "                                                                 bidirectional_1[0][0]            \n",
      "                                                                 activation[6][0]                 \n",
      "                                                                 bidirectional_1[0][0]            \n",
      "                                                                 activation[7][0]                 \n",
      "                                                                 bidirectional_1[0][0]            \n",
      "                                                                 activation[8][0]                 \n",
      "                                                                 bidirectional_1[0][0]            \n",
      "                                                                 activation[9][0]                 \n",
      "                                                                 bidirectional_1[0][0]            \n",
      "                                                                 activation[10][0]                \n",
      "                                                                 bidirectional_1[0][0]            \n",
      "                                                                 activation[11][0]                \n",
      "                                                                 bidirectional_1[0][0]            \n",
      "                                                                 activation[12][0]                \n",
      "                                                                 bidirectional_1[0][0]            \n",
      "                                                                 activation[13][0]                \n",
      "                                                                 bidirectional_1[0][0]            \n",
      "                                                                 activation[14][0]                \n",
      "                                                                 bidirectional_1[0][0]            \n",
      "                                                                 activation[15][0]                \n",
      "                                                                 bidirectional_1[0][0]            \n",
      "                                                                 activation[16][0]                \n",
      "                                                                 bidirectional_1[0][0]            \n",
      "                                                                 activation[17][0]                \n",
      "                                                                 bidirectional_1[0][0]            \n",
      "                                                                 activation[18][0]                \n",
      "                                                                 bidirectional_1[0][0]            \n",
      "                                                                 activation[19][0]                \n",
      "                                                                 bidirectional_1[0][0]            \n",
      "                                                                 activation[20][0]                \n",
      "                                                                 bidirectional_1[0][0]            \n",
      "                                                                 activation[21][0]                \n",
      "                                                                 bidirectional_1[0][0]            \n",
      "                                                                 activation[22][0]                \n",
      "                                                                 bidirectional_1[0][0]            \n",
      "                                                                 activation[23][0]                \n",
      "                                                                 bidirectional_1[0][0]            \n",
      "                                                                 activation[24][0]                \n",
      "                                                                 bidirectional_1[0][0]            \n",
      "                                                                 activation[25][0]                \n",
      "                                                                 bidirectional_1[0][0]            \n",
      "                                                                 activation[26][0]                \n",
      "                                                                 bidirectional_1[0][0]            \n",
      "                                                                 activation[27][0]                \n",
      "                                                                 bidirectional_1[0][0]            \n",
      "                                                                 activation[28][0]                \n",
      "                                                                 bidirectional_1[0][0]            \n",
      "                                                                 activation[29][0]                \n",
      "                                                                 bidirectional_1[0][0]            \n",
      "                                                                 activation[30][0]                \n",
      "                                                                 bidirectional_1[0][0]            \n",
      "                                                                 activation[31][0]                \n",
      "                                                                 bidirectional_1[0][0]            \n",
      "                                                                 activation[32][0]                \n",
      "                                                                 bidirectional_1[0][0]            \n",
      "                                                                 activation[33][0]                \n",
      "                                                                 bidirectional_1[0][0]            \n",
      "                                                                 activation[34][0]                \n",
      "                                                                 bidirectional_1[0][0]            \n",
      "                                                                 activation[35][0]                \n",
      "                                                                 bidirectional_1[0][0]            \n",
      "                                                                 activation[36][0]                \n",
      "                                                                 bidirectional_1[0][0]            \n",
      "                                                                 activation[37][0]                \n",
      "                                                                 bidirectional_1[0][0]            \n",
      "                                                                 activation[38][0]                \n",
      "                                                                 bidirectional_1[0][0]            \n",
      "                                                                 activation[39][0]                \n",
      "                                                                 bidirectional_1[0][0]            \n",
      "                                                                 activation[40][0]                \n",
      "                                                                 bidirectional_1[0][0]            \n",
      "                                                                 activation[41][0]                \n",
      "                                                                 bidirectional_1[0][0]            \n",
      "                                                                 activation[42][0]                \n",
      "                                                                 bidirectional_1[0][0]            \n",
      "                                                                 activation[43][0]                \n",
      "                                                                 bidirectional_1[0][0]            \n",
      "                                                                 activation[44][0]                \n",
      "                                                                 bidirectional_1[0][0]            \n",
      "                                                                 activation[45][0]                \n",
      "                                                                 bidirectional_1[0][0]            \n",
      "                                                                 activation[46][0]                \n",
      "                                                                 bidirectional_1[0][0]            \n",
      "                                                                 activation[47][0]                \n",
      "                                                                 bidirectional_1[0][0]            \n",
      "                                                                 activation[48][0]                \n",
      "                                                                 bidirectional_1[0][0]            \n",
      "                                                                 activation[49][0]                \n",
      "                                                                 bidirectional_1[0][0]            \n",
      "                                                                 activation[50][0]                \n",
      "                                                                 bidirectional_1[0][0]            \n",
      "                                                                 activation[51][0]                \n",
      "                                                                 bidirectional_1[0][0]            \n",
      "                                                                 activation[52][0]                \n",
      "                                                                 bidirectional_1[0][0]            \n",
      "                                                                 activation[53][0]                \n",
      "                                                                 bidirectional_1[0][0]            \n",
      "                                                                 activation[54][0]                \n",
      "                                                                 bidirectional_1[0][0]            \n",
      "                                                                 activation[55][0]                \n",
      "                                                                 bidirectional_1[0][0]            \n",
      "                                                                 activation[56][0]                \n",
      "                                                                 bidirectional_1[0][0]            \n",
      "                                                                 activation[57][0]                \n",
      "                                                                 bidirectional_1[0][0]            \n",
      "                                                                 activation[58][0]                \n",
      "                                                                 bidirectional_1[0][0]            \n",
      "                                                                 activation[59][0]                \n",
      "                                                                 bidirectional_1[0][0]            \n",
      "                                                                 activation[60][0]                \n",
      "                                                                 bidirectional_1[0][0]            \n",
      "                                                                 activation[61][0]                \n",
      "                                                                 bidirectional_1[0][0]            \n",
      "                                                                 activation[62][0]                \n",
      "                                                                 bidirectional_1[0][0]            \n",
      "                                                                 activation[63][0]                \n",
      "                                                                 bidirectional_1[0][0]            \n",
      "                                                                 activation[64][0]                \n",
      "                                                                 bidirectional_1[0][0]            \n",
      "                                                                 activation[65][0]                \n",
      "                                                                 bidirectional_1[0][0]            \n",
      "                                                                 activation[66][0]                \n",
      "                                                                 bidirectional_1[0][0]            \n",
      "                                                                 activation[67][0]                \n",
      "                                                                 bidirectional_1[0][0]            \n",
      "                                                                 activation[68][0]                \n",
      "                                                                 bidirectional_1[0][0]            \n",
      "                                                                 activation[69][0]                \n",
      "                                                                 bidirectional_1[0][0]            \n",
      "                                                                 activation[70][0]                \n",
      "                                                                 bidirectional_1[0][0]            \n",
      "                                                                 activation[71][0]                \n",
      "                                                                 bidirectional_1[0][0]            \n",
      "                                                                 activation[72][0]                \n",
      "                                                                 bidirectional_1[0][0]            \n",
      "                                                                 activation[73][0]                \n",
      "                                                                 bidirectional_1[0][0]            \n",
      "                                                                 activation[74][0]                \n",
      "                                                                 bidirectional_1[0][0]            \n",
      "                                                                 activation[75][0]                \n",
      "                                                                 bidirectional_1[0][0]            \n",
      "                                                                 activation[76][0]                \n",
      "                                                                 bidirectional_1[0][0]            \n",
      "                                                                 activation[77][0]                \n",
      "                                                                 bidirectional_1[0][0]            \n",
      "                                                                 activation[78][0]                \n",
      "                                                                 bidirectional_1[0][0]            \n",
      "                                                                 activation[79][0]                \n",
      "                                                                 bidirectional_1[0][0]            \n",
      "                                                                 activation[80][0]                \n",
      "                                                                 bidirectional_1[0][0]            \n",
      "                                                                 activation[81][0]                \n",
      "                                                                 bidirectional_1[0][0]            \n",
      "                                                                 activation[82][0]                \n",
      "                                                                 bidirectional_1[0][0]            \n",
      "                                                                 activation[83][0]                \n",
      "                                                                 bidirectional_1[0][0]            \n",
      "                                                                 activation[84][0]                \n",
      "                                                                 bidirectional_1[0][0]            \n",
      "                                                                 activation[85][0]                \n",
      "                                                                 bidirectional_1[0][0]            \n",
      "                                                                 activation[86][0]                \n",
      "                                                                 bidirectional_1[0][0]            \n",
      "                                                                 activation[87][0]                \n",
      "                                                                 bidirectional_1[0][0]            \n",
      "                                                                 activation[88][0]                \n",
      "                                                                 bidirectional_1[0][0]            \n",
      "                                                                 activation[89][0]                \n",
      "                                                                 bidirectional_1[0][0]            \n",
      "                                                                 activation[90][0]                \n",
      "                                                                 bidirectional_1[0][0]            \n",
      "                                                                 activation[91][0]                \n",
      "                                                                 bidirectional_1[0][0]            \n",
      "                                                                 activation[92][0]                \n",
      "                                                                 bidirectional_1[0][0]            \n",
      "                                                                 activation[93][0]                \n",
      "                                                                 bidirectional_1[0][0]            \n",
      "                                                                 activation[94][0]                \n",
      "                                                                 bidirectional_1[0][0]            \n",
      "                                                                 activation[95][0]                \n",
      "                                                                 bidirectional_1[0][0]            \n",
      "                                                                 activation[96][0]                \n",
      "                                                                 bidirectional_1[0][0]            \n",
      "                                                                 activation[97][0]                \n",
      "                                                                 bidirectional_1[0][0]            \n",
      "                                                                 activation[98][0]                \n",
      "                                                                 bidirectional_1[0][0]            \n",
      "                                                                 activation[99][0]                \n",
      "                                                                 bidirectional_1[0][0]            \n",
      "__________________________________________________________________________________________________\n",
      "input_3 (InputLayer)            [(None, 128)]        0                                            \n",
      "__________________________________________________________________________________________________\n",
      "lstm_4 (LSTM)                   [(None, 128), (None, 131584      dot[0][0]                        \n",
      "                                                                 input_2[0][0]                    \n",
      "                                                                 input_3[0][0]                    \n",
      "                                                                 dot[1][0]                        \n",
      "                                                                 lstm_4[0][0]                     \n",
      "                                                                 lstm_4[0][2]                     \n",
      "                                                                 dot[2][0]                        \n",
      "                                                                 lstm_4[1][0]                     \n",
      "                                                                 lstm_4[1][2]                     \n",
      "                                                                 dot[3][0]                        \n",
      "                                                                 lstm_4[2][0]                     \n",
      "                                                                 lstm_4[2][2]                     \n",
      "                                                                 dot[4][0]                        \n",
      "                                                                 lstm_4[3][0]                     \n",
      "                                                                 lstm_4[3][2]                     \n",
      "                                                                 dot[5][0]                        \n",
      "                                                                 lstm_4[4][0]                     \n",
      "                                                                 lstm_4[4][2]                     \n",
      "                                                                 dot[6][0]                        \n",
      "                                                                 lstm_4[5][0]                     \n",
      "                                                                 lstm_4[5][2]                     \n",
      "                                                                 dot[7][0]                        \n",
      "                                                                 lstm_4[6][0]                     \n",
      "                                                                 lstm_4[6][2]                     \n",
      "                                                                 dot[8][0]                        \n",
      "                                                                 lstm_4[7][0]                     \n",
      "                                                                 lstm_4[7][2]                     \n",
      "                                                                 dot[9][0]                        \n",
      "                                                                 lstm_4[8][0]                     \n",
      "                                                                 lstm_4[8][2]                     \n",
      "                                                                 dot[10][0]                       \n",
      "                                                                 lstm_4[9][0]                     \n",
      "                                                                 lstm_4[9][2]                     \n",
      "                                                                 dot[11][0]                       \n",
      "                                                                 lstm_4[10][0]                    \n",
      "                                                                 lstm_4[10][2]                    \n",
      "                                                                 dot[12][0]                       \n",
      "                                                                 lstm_4[11][0]                    \n",
      "                                                                 lstm_4[11][2]                    \n",
      "                                                                 dot[13][0]                       \n",
      "                                                                 lstm_4[12][0]                    \n",
      "                                                                 lstm_4[12][2]                    \n",
      "                                                                 dot[14][0]                       \n",
      "                                                                 lstm_4[13][0]                    \n",
      "                                                                 lstm_4[13][2]                    \n",
      "                                                                 dot[15][0]                       \n",
      "                                                                 lstm_4[14][0]                    \n",
      "                                                                 lstm_4[14][2]                    \n",
      "                                                                 dot[16][0]                       \n",
      "                                                                 lstm_4[15][0]                    \n",
      "                                                                 lstm_4[15][2]                    \n",
      "                                                                 dot[17][0]                       \n",
      "                                                                 lstm_4[16][0]                    \n",
      "                                                                 lstm_4[16][2]                    \n",
      "                                                                 dot[18][0]                       \n",
      "                                                                 lstm_4[17][0]                    \n",
      "                                                                 lstm_4[17][2]                    \n",
      "                                                                 dot[19][0]                       \n",
      "                                                                 lstm_4[18][0]                    \n",
      "                                                                 lstm_4[18][2]                    \n",
      "                                                                 dot[20][0]                       \n",
      "                                                                 lstm_4[19][0]                    \n",
      "                                                                 lstm_4[19][2]                    \n",
      "                                                                 dot[21][0]                       \n",
      "                                                                 lstm_4[20][0]                    \n",
      "                                                                 lstm_4[20][2]                    \n",
      "                                                                 dot[22][0]                       \n",
      "                                                                 lstm_4[21][0]                    \n",
      "                                                                 lstm_4[21][2]                    \n",
      "                                                                 dot[23][0]                       \n",
      "                                                                 lstm_4[22][0]                    \n",
      "                                                                 lstm_4[22][2]                    \n",
      "                                                                 dot[24][0]                       \n",
      "                                                                 lstm_4[23][0]                    \n",
      "                                                                 lstm_4[23][2]                    \n",
      "                                                                 dot[25][0]                       \n",
      "                                                                 lstm_4[24][0]                    \n",
      "                                                                 lstm_4[24][2]                    \n",
      "                                                                 dot[26][0]                       \n",
      "                                                                 lstm_4[25][0]                    \n",
      "                                                                 lstm_4[25][2]                    \n",
      "                                                                 dot[27][0]                       \n",
      "                                                                 lstm_4[26][0]                    \n",
      "                                                                 lstm_4[26][2]                    \n",
      "                                                                 dot[28][0]                       \n",
      "                                                                 lstm_4[27][0]                    \n",
      "                                                                 lstm_4[27][2]                    \n",
      "                                                                 dot[29][0]                       \n",
      "                                                                 lstm_4[28][0]                    \n",
      "                                                                 lstm_4[28][2]                    \n",
      "                                                                 dot[30][0]                       \n",
      "                                                                 lstm_4[29][0]                    \n",
      "                                                                 lstm_4[29][2]                    \n",
      "                                                                 dot[31][0]                       \n",
      "                                                                 lstm_4[30][0]                    \n",
      "                                                                 lstm_4[30][2]                    \n",
      "                                                                 dot[32][0]                       \n",
      "                                                                 lstm_4[31][0]                    \n",
      "                                                                 lstm_4[31][2]                    \n",
      "                                                                 dot[33][0]                       \n",
      "                                                                 lstm_4[32][0]                    \n",
      "                                                                 lstm_4[32][2]                    \n",
      "                                                                 dot[34][0]                       \n",
      "                                                                 lstm_4[33][0]                    \n",
      "                                                                 lstm_4[33][2]                    \n",
      "                                                                 dot[35][0]                       \n",
      "                                                                 lstm_4[34][0]                    \n",
      "                                                                 lstm_4[34][2]                    \n",
      "                                                                 dot[36][0]                       \n",
      "                                                                 lstm_4[35][0]                    \n",
      "                                                                 lstm_4[35][2]                    \n",
      "                                                                 dot[37][0]                       \n",
      "                                                                 lstm_4[36][0]                    \n",
      "                                                                 lstm_4[36][2]                    \n",
      "                                                                 dot[38][0]                       \n",
      "                                                                 lstm_4[37][0]                    \n",
      "                                                                 lstm_4[37][2]                    \n",
      "                                                                 dot[39][0]                       \n",
      "                                                                 lstm_4[38][0]                    \n",
      "                                                                 lstm_4[38][2]                    \n",
      "                                                                 dot[40][0]                       \n",
      "                                                                 lstm_4[39][0]                    \n",
      "                                                                 lstm_4[39][2]                    \n",
      "                                                                 dot[41][0]                       \n",
      "                                                                 lstm_4[40][0]                    \n",
      "                                                                 lstm_4[40][2]                    \n",
      "                                                                 dot[42][0]                       \n",
      "                                                                 lstm_4[41][0]                    \n",
      "                                                                 lstm_4[41][2]                    \n",
      "                                                                 dot[43][0]                       \n",
      "                                                                 lstm_4[42][0]                    \n",
      "                                                                 lstm_4[42][2]                    \n",
      "                                                                 dot[44][0]                       \n",
      "                                                                 lstm_4[43][0]                    \n",
      "                                                                 lstm_4[43][2]                    \n",
      "                                                                 dot[45][0]                       \n",
      "                                                                 lstm_4[44][0]                    \n",
      "                                                                 lstm_4[44][2]                    \n",
      "                                                                 dot[46][0]                       \n",
      "                                                                 lstm_4[45][0]                    \n",
      "                                                                 lstm_4[45][2]                    \n",
      "                                                                 dot[47][0]                       \n",
      "                                                                 lstm_4[46][0]                    \n",
      "                                                                 lstm_4[46][2]                    \n",
      "                                                                 dot[48][0]                       \n",
      "                                                                 lstm_4[47][0]                    \n",
      "                                                                 lstm_4[47][2]                    \n",
      "                                                                 dot[49][0]                       \n",
      "                                                                 lstm_4[48][0]                    \n",
      "                                                                 lstm_4[48][2]                    \n",
      "                                                                 dot[50][0]                       \n",
      "                                                                 lstm_4[49][0]                    \n",
      "                                                                 lstm_4[49][2]                    \n",
      "                                                                 dot[51][0]                       \n",
      "                                                                 lstm_4[50][0]                    \n",
      "                                                                 lstm_4[50][2]                    \n",
      "                                                                 dot[52][0]                       \n",
      "                                                                 lstm_4[51][0]                    \n",
      "                                                                 lstm_4[51][2]                    \n",
      "                                                                 dot[53][0]                       \n",
      "                                                                 lstm_4[52][0]                    \n",
      "                                                                 lstm_4[52][2]                    \n",
      "                                                                 dot[54][0]                       \n",
      "                                                                 lstm_4[53][0]                    \n",
      "                                                                 lstm_4[53][2]                    \n",
      "                                                                 dot[55][0]                       \n",
      "                                                                 lstm_4[54][0]                    \n",
      "                                                                 lstm_4[54][2]                    \n",
      "                                                                 dot[56][0]                       \n",
      "                                                                 lstm_4[55][0]                    \n",
      "                                                                 lstm_4[55][2]                    \n",
      "                                                                 dot[57][0]                       \n",
      "                                                                 lstm_4[56][0]                    \n",
      "                                                                 lstm_4[56][2]                    \n",
      "                                                                 dot[58][0]                       \n",
      "                                                                 lstm_4[57][0]                    \n",
      "                                                                 lstm_4[57][2]                    \n",
      "                                                                 dot[59][0]                       \n",
      "                                                                 lstm_4[58][0]                    \n",
      "                                                                 lstm_4[58][2]                    \n",
      "                                                                 dot[60][0]                       \n",
      "                                                                 lstm_4[59][0]                    \n",
      "                                                                 lstm_4[59][2]                    \n",
      "                                                                 dot[61][0]                       \n",
      "                                                                 lstm_4[60][0]                    \n",
      "                                                                 lstm_4[60][2]                    \n",
      "                                                                 dot[62][0]                       \n",
      "                                                                 lstm_4[61][0]                    \n",
      "                                                                 lstm_4[61][2]                    \n",
      "                                                                 dot[63][0]                       \n",
      "                                                                 lstm_4[62][0]                    \n",
      "                                                                 lstm_4[62][2]                    \n",
      "                                                                 dot[64][0]                       \n",
      "                                                                 lstm_4[63][0]                    \n",
      "                                                                 lstm_4[63][2]                    \n",
      "                                                                 dot[65][0]                       \n",
      "                                                                 lstm_4[64][0]                    \n",
      "                                                                 lstm_4[64][2]                    \n",
      "                                                                 dot[66][0]                       \n",
      "                                                                 lstm_4[65][0]                    \n",
      "                                                                 lstm_4[65][2]                    \n",
      "                                                                 dot[67][0]                       \n",
      "                                                                 lstm_4[66][0]                    \n",
      "                                                                 lstm_4[66][2]                    \n",
      "                                                                 dot[68][0]                       \n",
      "                                                                 lstm_4[67][0]                    \n",
      "                                                                 lstm_4[67][2]                    \n",
      "                                                                 dot[69][0]                       \n",
      "                                                                 lstm_4[68][0]                    \n",
      "                                                                 lstm_4[68][2]                    \n",
      "                                                                 dot[70][0]                       \n",
      "                                                                 lstm_4[69][0]                    \n",
      "                                                                 lstm_4[69][2]                    \n",
      "                                                                 dot[71][0]                       \n",
      "                                                                 lstm_4[70][0]                    \n",
      "                                                                 lstm_4[70][2]                    \n",
      "                                                                 dot[72][0]                       \n",
      "                                                                 lstm_4[71][0]                    \n",
      "                                                                 lstm_4[71][2]                    \n",
      "                                                                 dot[73][0]                       \n",
      "                                                                 lstm_4[72][0]                    \n",
      "                                                                 lstm_4[72][2]                    \n",
      "                                                                 dot[74][0]                       \n",
      "                                                                 lstm_4[73][0]                    \n",
      "                                                                 lstm_4[73][2]                    \n",
      "                                                                 dot[75][0]                       \n",
      "                                                                 lstm_4[74][0]                    \n",
      "                                                                 lstm_4[74][2]                    \n",
      "                                                                 dot[76][0]                       \n",
      "                                                                 lstm_4[75][0]                    \n",
      "                                                                 lstm_4[75][2]                    \n",
      "                                                                 dot[77][0]                       \n",
      "                                                                 lstm_4[76][0]                    \n",
      "                                                                 lstm_4[76][2]                    \n",
      "                                                                 dot[78][0]                       \n",
      "                                                                 lstm_4[77][0]                    \n",
      "                                                                 lstm_4[77][2]                    \n",
      "                                                                 dot[79][0]                       \n",
      "                                                                 lstm_4[78][0]                    \n",
      "                                                                 lstm_4[78][2]                    \n",
      "                                                                 dot[80][0]                       \n",
      "                                                                 lstm_4[79][0]                    \n",
      "                                                                 lstm_4[79][2]                    \n",
      "                                                                 dot[81][0]                       \n",
      "                                                                 lstm_4[80][0]                    \n",
      "                                                                 lstm_4[80][2]                    \n",
      "                                                                 dot[82][0]                       \n",
      "                                                                 lstm_4[81][0]                    \n",
      "                                                                 lstm_4[81][2]                    \n",
      "                                                                 dot[83][0]                       \n",
      "                                                                 lstm_4[82][0]                    \n",
      "                                                                 lstm_4[82][2]                    \n",
      "                                                                 dot[84][0]                       \n",
      "                                                                 lstm_4[83][0]                    \n",
      "                                                                 lstm_4[83][2]                    \n",
      "                                                                 dot[85][0]                       \n",
      "                                                                 lstm_4[84][0]                    \n",
      "                                                                 lstm_4[84][2]                    \n",
      "                                                                 dot[86][0]                       \n",
      "                                                                 lstm_4[85][0]                    \n",
      "                                                                 lstm_4[85][2]                    \n",
      "                                                                 dot[87][0]                       \n",
      "                                                                 lstm_4[86][0]                    \n",
      "                                                                 lstm_4[86][2]                    \n",
      "                                                                 dot[88][0]                       \n",
      "                                                                 lstm_4[87][0]                    \n",
      "                                                                 lstm_4[87][2]                    \n",
      "                                                                 dot[89][0]                       \n",
      "                                                                 lstm_4[88][0]                    \n",
      "                                                                 lstm_4[88][2]                    \n",
      "                                                                 dot[90][0]                       \n",
      "                                                                 lstm_4[89][0]                    \n",
      "                                                                 lstm_4[89][2]                    \n",
      "                                                                 dot[91][0]                       \n",
      "                                                                 lstm_4[90][0]                    \n",
      "                                                                 lstm_4[90][2]                    \n",
      "                                                                 dot[92][0]                       \n",
      "                                                                 lstm_4[91][0]                    \n",
      "                                                                 lstm_4[91][2]                    \n",
      "                                                                 dot[93][0]                       \n",
      "                                                                 lstm_4[92][0]                    \n",
      "                                                                 lstm_4[92][2]                    \n",
      "                                                                 dot[94][0]                       \n",
      "                                                                 lstm_4[93][0]                    \n",
      "                                                                 lstm_4[93][2]                    \n",
      "                                                                 dot[95][0]                       \n",
      "                                                                 lstm_4[94][0]                    \n",
      "                                                                 lstm_4[94][2]                    \n",
      "                                                                 dot[96][0]                       \n",
      "                                                                 lstm_4[95][0]                    \n",
      "                                                                 lstm_4[95][2]                    \n",
      "                                                                 dot[97][0]                       \n",
      "                                                                 lstm_4[96][0]                    \n",
      "                                                                 lstm_4[96][2]                    \n",
      "                                                                 dot[98][0]                       \n",
      "                                                                 lstm_4[97][0]                    \n",
      "                                                                 lstm_4[97][2]                    \n",
      "                                                                 dot[99][0]                       \n",
      "                                                                 lstm_4[98][0]                    \n",
      "                                                                 lstm_4[98][2]                    \n",
      "__________________________________________________________________________________________________\n",
      "dense_3 (Dense)                 (None, 1)            129         lstm_4[99][0]                    \n",
      "==================================================================================================\n",
      "Total params: 1,905,026\n",
      "Trainable params: 1,905,026\n",
      "Non-trainable params: 0\n",
      "__________________________________________________________________________________________________\n"
     ]
    }
   ],
   "source": [
    "attention_model.summary()"
   ]
  },
  {
   "cell_type": "code",
   "execution_count": 30,
   "metadata": {
    "colab": {
     "base_uri": "https://localhost:8080/",
     "height": 1000
    },
    "colab_type": "code",
    "id": "daqIcS60OUak",
    "outputId": "0ed0603d-739a-432f-ee5a-b2225436336f"
   },
   "outputs": [
    {
     "data": {
      "image/png": "[encoded data removed]",
      "text/plain": [
       "<IPython.core.display.Image object>"
      ]
     },
     "execution_count": 30,
     "metadata": {
      "tags": []
     },
     "output_type": "execute_result"
    }
   ],
   "source": [
    "tf.keras.utils.plot_model(attention_model, to_file=base_url + 'model.png')"
   ]
  },
  {
   "cell_type": "markdown",
   "metadata": {
    "colab_type": "text",
    "id": "tTh_viu4Tp3W"
   },
   "source": [
    "### **Fit data to attention model**"
   ]
  },
  {
   "cell_type": "code",
   "execution_count": 31,
   "metadata": {
    "colab": {},
    "colab_type": "code",
    "id": "Eun7a1_dO_tn"
   },
   "outputs": [],
   "source": [
    "attention_model.compile(\n",
    "    loss='binary_crossentropy', \n",
    "    optimizer=tf.keras.optimizers.Adam(learning_rate=0.00003), \n",
    "    metrics=['accuracy']\n",
    ")"
   ]
  },
  {
   "cell_type": "code",
   "execution_count": 32,
   "metadata": {
    "colab": {},
    "colab_type": "code",
    "id": "QjaMhzg0WyCy"
   },
   "outputs": [],
   "source": [
    "a0_train = np.zeros((X_train.shape[0], n_attention_lstm))\n",
    "c0_train = np.zeros((X_train.shape[0], n_attention_lstm))\n",
    "a0_test = np.zeros((X_test.shape[0], n_attention_lstm))\n",
    "c0_test = np.zeros((X_test.shape[0], n_attention_lstm))"
   ]
  },
  {
   "cell_type": "code",
   "execution_count": 36,
   "metadata": {
    "colab": {
     "base_uri": "https://localhost:8080/",
     "height": 139
    },
    "colab_type": "code",
    "id": "Ez6q5WMNPxd6",
    "outputId": "2564358d-f2fd-4d56-9006-8d09c8867d65"
   },
   "outputs": [
    {
     "name": "stdout",
     "output_type": "stream",
     "text": [
      "Epoch 1/3\n",
      "157/157 [==============================] - 277s 2s/step - loss: 0.3573 - accuracy: 0.8441 - val_loss: 0.3971 - val_accuracy: 0.8240\n",
      "Epoch 2/3\n",
      "157/157 [==============================] - 277s 2s/step - loss: 0.3545 - accuracy: 0.8458 - val_loss: 0.3926 - val_accuracy: 0.8262\n",
      "Epoch 3/3\n",
      "157/157 [==============================] - 277s 2s/step - loss: 0.3445 - accuracy: 0.8518 - val_loss: 0.3911 - val_accuracy: 0.8266\n"
     ]
    },
    {
     "data": {
      "text/plain": [
       "<tensorflow.python.keras.callbacks.History at 0x7ff37270e550>"
      ]
     },
     "execution_count": 36,
     "metadata": {
      "tags": []
     },
     "output_type": "execute_result"
    }
   ],
   "source": [
    "attention_model.fit([X_train, a0_train, c0_train], Y_train, batch_size=256, epochs=3, \n",
    "        validation_data=([X_test, a0_test, c0_test], Y_test))"
   ]
  },
  {
   "cell_type": "markdown",
   "metadata": {
    "colab_type": "text",
    "id": "dFrTFbztkeZE"
   },
   "source": [
    "### **Evaluate attention model**"
   ]
  },
  {
   "cell_type": "code",
   "execution_count": 37,
   "metadata": {
    "colab": {},
    "colab_type": "code",
    "id": "8PNk_gRNkYqH"
   },
   "outputs": [],
   "source": [
    "predictions = np.around(attention_model.predict([X_test, a0_test, c0_test]))"
   ]
  },
  {
   "cell_type": "code",
   "execution_count": 38,
   "metadata": {
    "colab": {
     "base_uri": "https://localhost:8080/",
     "height": 69
    },
    "colab_type": "code",
    "id": "STwqWh3Wkdji",
    "outputId": "42df4474-c530-447d-cba0-a149ea20e2c3"
   },
   "outputs": [
    {
     "name": "stdout",
     "output_type": "stream",
     "text": [
      "Precision = 0.8275\n",
      "Recall = 0.8266\n",
      "F1 Score = 0.8265\n"
     ]
    }
   ],
   "source": [
    "precision, recall, f1, _ = precision_recall_fscore_support(Y_test, predictions, average='weighted')\n",
    "print('Precision =', round(precision, 4))\n",
    "print('Recall =', round(recall, 4))\n",
    "print('F1 Score =', round(f1, 4))"
   ]
  },
  {
   "cell_type": "markdown",
   "metadata": {
    "colab_type": "text",
    "id": "GbqBV_OrTvCb"
   },
   "source": [
    "### **Make predictions**"
   ]
  },
  {
   "cell_type": "code",
   "execution_count": 39,
   "metadata": {
    "colab": {},
    "colab_type": "code",
    "id": "bzbpRdBR7x1S"
   },
   "outputs": [],
   "source": [
    "def predict(review, model):\n",
    "    review = clean_review(review)\n",
    "    words = list(filter(lambda x: len(x) > 0, map(str.strip, review.split(' '))))\n",
    "    inp = np.array(convert_to_ind_seq(words)[0]).reshape((1, review_max_len))\n",
    "    out = model.predict([inp, np.zeros((1, n_attention_lstm)), np.zeros((1, n_attention_lstm))])[0][0]\n",
    "    return 'Positive Review' if out >= 0.5 else 'Negative Review'"
   ]
  },
  {
   "cell_type": "code",
   "execution_count": null,
   "metadata": {
    "colab": {
     "base_uri": "https://localhost:8080/",
     "height": 56
    },
    "colab_type": "code",
    "id": "8omBYSgU9MQj",
    "outputId": "99c58d33-3825-4c08-f857-adbd835c587a"
   },
   "outputs": [],
   "source": [
    "predict('It was not a good movie.', attention_model)"
   ]
  }
 ],
 "metadata": {
  "accelerator": "GPU",
  "colab": {
   "collapsed_sections": [],
   "name": "Sentiment Analysis.ipynb",
   "provenance": []
  },
  "kernelspec": {
   "display_name": "Python 3",
   "language": "python",
   "name": "python3"
  },
  "language_info": {
   "codemirror_mode": {
    "name": "ipython",
    "version": 3
   },
   "file_extension": ".py",
   "mimetype": "text/x-python",
   "name": "python",
   "nbconvert_exporter": "python",
   "pygments_lexer": "ipython3",
   "version": "3.7.3"
  }
 },
 "nbformat": 4,
 "nbformat_minor": 1
}
